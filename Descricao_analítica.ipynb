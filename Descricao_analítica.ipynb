{
 "cells": [
  {
   "cell_type": "markdown",
   "id": "6f2fcaf9",
   "metadata": {},
   "source": [
    "# Processamento de dados para o estudo da linguagem com Python\n",
    "\n",
    "\n",
    "Ténicas orientadas à análise de conteúdo podem ser empregadas tanto para uma \"<i>análise dos significados(ex: análise temática), quanto dos significantes (ex: análise lexicial)</i>\". Habildiades de programação e de análise qualitativa podem elevar o nível dos pesquisadores e das pesquisas da área de letras.\n",
    "<br><br>\n",
    "O bjetivo é demonstrar como o uso de Python, e ferramentas baseadas em Python, pode facilitar uma fase preliminar, comum a vários tipos de pesquisas, que é a fase da <b>descrição analítica</b>. Seja para uma investigação heurística, ou para investigação de hipóteses, a descrição analítica é um processo bastante comum no estudo da linguagem. \n",
    "<br>\n"
   ]
  },
  {
   "cell_type": "markdown",
   "id": "6ce618e8",
   "metadata": {},
   "source": [
    "**Principais fontes**:<br>\n",
    "- spaCy para a língua portuguesa: https://spacy.io/models/pt\n",
    "- base de dados: https://basedosdados.org/dataset/br-senado-cpipandemia\n",
    "- Análise de conteúdo: https://pt.wikipedia.org/wiki/An%C3%A1lise_de_conte%C3%BAdo\n"
   ]
  },
  {
   "cell_type": "markdown",
   "id": "e541b22f",
   "metadata": {},
   "source": [
    "\n",
    "\n",
    "  **Parte 1:** Processamento de dados (leitura, exploração e visualização dos dados).<br>\n",
    "      **Parte 2:** Ferramentas linguísticas (remoção de pontuação, tokenização, palavras-instrumento, palavras-plenas e partes do discurso.)\n",
    "\n"
   ]
  },
  {
   "cell_type": "markdown",
   "id": "c689e95d",
   "metadata": {},
   "source": [
    "### Pandas\n",
    "\n",
    "pandas é uma biblioteca baseada em Python que permite realizar tarefas para a análise de dados com uma certa economia de código. <br>\n",
    "É preciso fazer uma importação para usar as funções e métodos desta biblioteca.\n"
   ]
  },
  {
   "cell_type": "code",
   "execution_count": 1,
   "id": "38ee214a",
   "metadata": {},
   "outputs": [],
   "source": [
    "import pandas as pd"
   ]
  },
  {
   "cell_type": "markdown",
   "id": "87741bf5",
   "metadata": {},
   "source": [
    "#### carregando o arquivo discursos.csv e salvando em uma variável denominada df.\n",
    "\n",
    "A fonte dos corpora deste arquivo é de língua oral. Trata-se dos discursos da CPI da Pandemia. <br><br>Trata-se de um conjunto de dados significativo. São 21 colunas e 54913 linhas com mensagens provinientes de discursos orais. Ou seja, ferramentas computacionais são mais que bem vindas para lidar com conteúdo desta magnitude. \n",
    " "
   ]
  },
  {
   "cell_type": "code",
   "execution_count": 2,
   "id": "62247828",
   "metadata": {},
   "outputs": [],
   "source": [
    "df = pd.read_csv(\"discursos.csv\")"
   ]
  },
  {
   "cell_type": "markdown",
   "id": "adfd69d7",
   "metadata": {},
   "source": [
    "# PARTE 1: conhecendo o conjunto de dados\n",
    "É preciso se apropriar das características mais salientes do conjunto de dados. Neste caso, os discursos da CPI da Pandemia.\n",
    "### exibindo o cabeçaho da base de dados"
   ]
  },
  {
   "cell_type": "code",
   "execution_count": 3,
   "id": "a178ad4f",
   "metadata": {},
   "outputs": [
    {
     "data": {
      "text/html": [
       "<div>\n",
       "<style scoped>\n",
       "    .dataframe tbody tr th:only-of-type {\n",
       "        vertical-align: middle;\n",
       "    }\n",
       "\n",
       "    .dataframe tbody tr th {\n",
       "        vertical-align: top;\n",
       "    }\n",
       "\n",
       "    .dataframe thead th {\n",
       "        text-align: right;\n",
       "    }\n",
       "</style>\n",
       "<table border=\"1\" class=\"dataframe\">\n",
       "  <thead>\n",
       "    <tr style=\"text-align: right;\">\n",
       "      <th></th>\n",
       "      <th>sequencial_sessao</th>\n",
       "      <th>data_sessao</th>\n",
       "      <th>sigla_partido</th>\n",
       "      <th>sigla_uf_partido</th>\n",
       "      <th>bloco_parlamentar</th>\n",
       "      <th>nome_discursante</th>\n",
       "      <th>genero_discursante</th>\n",
       "      <th>categoria_discursante</th>\n",
       "      <th>texto_discurso</th>\n",
       "      <th>horario_inicio_discurso</th>\n",
       "      <th>...</th>\n",
       "      <th>duracao_discurso</th>\n",
       "      <th>sinalizacao_pela_ordem</th>\n",
       "      <th>sinalizacao_questao_ordem</th>\n",
       "      <th>sinalizacao_fora_microfone</th>\n",
       "      <th>sinalizacao_responder_questao_ordem</th>\n",
       "      <th>sinalizacao_por_videoconferencia</th>\n",
       "      <th>sinalizacao_para_interpelar</th>\n",
       "      <th>sinalizacao_para_expor</th>\n",
       "      <th>sinalizacao_para_depor</th>\n",
       "      <th>sinalizacao_como_presidente</th>\n",
       "    </tr>\n",
       "  </thead>\n",
       "  <tbody>\n",
       "    <tr>\n",
       "      <th>0</th>\n",
       "      <td>1</td>\n",
       "      <td>2021-04-27</td>\n",
       "      <td>PSD</td>\n",
       "      <td>BA</td>\n",
       "      <td>NaN</td>\n",
       "      <td>OTTO ALENCAR</td>\n",
       "      <td>Masculino</td>\n",
       "      <td>Senador/a</td>\n",
       "      <td>Invocando a proteção de Deus, declaro aberta a...</td>\n",
       "      <td>10:00:00</td>\n",
       "      <td>...</td>\n",
       "      <td>0.0</td>\n",
       "      <td>Não</td>\n",
       "      <td>Não</td>\n",
       "      <td>Não</td>\n",
       "      <td>Não</td>\n",
       "      <td>Não</td>\n",
       "      <td>Não</td>\n",
       "      <td>Não</td>\n",
       "      <td>Não</td>\n",
       "      <td>Sim</td>\n",
       "    </tr>\n",
       "    <tr>\n",
       "      <th>1</th>\n",
       "      <td>1</td>\n",
       "      <td>2021-04-27</td>\n",
       "      <td>PP</td>\n",
       "      <td>PI</td>\n",
       "      <td>Bloco Parlamentar Unidos pelo Brasil</td>\n",
       "      <td>CIRO NOGUEIRA</td>\n",
       "      <td>Masculino</td>\n",
       "      <td>Senador/a</td>\n",
       "      <td>Sr. Presidente, Sras. e Srs. Senadores, eu ach...</td>\n",
       "      <td>10:00:00</td>\n",
       "      <td>...</td>\n",
       "      <td>240.0</td>\n",
       "      <td>Não</td>\n",
       "      <td>Sim</td>\n",
       "      <td>Não</td>\n",
       "      <td>Não</td>\n",
       "      <td>Não</td>\n",
       "      <td>Não</td>\n",
       "      <td>Não</td>\n",
       "      <td>Não</td>\n",
       "      <td>Não</td>\n",
       "    </tr>\n",
       "    <tr>\n",
       "      <th>2</th>\n",
       "      <td>1</td>\n",
       "      <td>2021-04-27</td>\n",
       "      <td>PSD</td>\n",
       "      <td>BA</td>\n",
       "      <td>NaN</td>\n",
       "      <td>OTTO ALENCAR</td>\n",
       "      <td>Masculino</td>\n",
       "      <td>Senador/a</td>\n",
       "      <td>Senador Ciro Nogueira, esta é uma Comissão Par...</td>\n",
       "      <td>10:04:00</td>\n",
       "      <td>...</td>\n",
       "      <td>0.0</td>\n",
       "      <td>Não</td>\n",
       "      <td>Não</td>\n",
       "      <td>Não</td>\n",
       "      <td>Não</td>\n",
       "      <td>Não</td>\n",
       "      <td>Não</td>\n",
       "      <td>Não</td>\n",
       "      <td>Não</td>\n",
       "      <td>Sim</td>\n",
       "    </tr>\n",
       "    <tr>\n",
       "      <th>3</th>\n",
       "      <td>1</td>\n",
       "      <td>2021-04-27</td>\n",
       "      <td>PP</td>\n",
       "      <td>PI</td>\n",
       "      <td>Bloco Parlamentar Unidos pelo Brasil</td>\n",
       "      <td>CIRO NOGUEIRA</td>\n",
       "      <td>Masculino</td>\n",
       "      <td>Senador/a</td>\n",
       "      <td>Sr. Presidente, não é o caso de indeferir ou n...</td>\n",
       "      <td>10:04:00</td>\n",
       "      <td>...</td>\n",
       "      <td>0.0</td>\n",
       "      <td>Não</td>\n",
       "      <td>Não</td>\n",
       "      <td>Não</td>\n",
       "      <td>Não</td>\n",
       "      <td>Não</td>\n",
       "      <td>Não</td>\n",
       "      <td>Não</td>\n",
       "      <td>Não</td>\n",
       "      <td>Não</td>\n",
       "    </tr>\n",
       "    <tr>\n",
       "      <th>4</th>\n",
       "      <td>1</td>\n",
       "      <td>2021-04-27</td>\n",
       "      <td>PSD</td>\n",
       "      <td>BA</td>\n",
       "      <td>NaN</td>\n",
       "      <td>OTTO ALENCAR</td>\n",
       "      <td>Masculino</td>\n",
       "      <td>Senador/a</td>\n",
       "      <td>Eu indeferi. Sou Presidente e posso indeferir.</td>\n",
       "      <td>10:04:00</td>\n",
       "      <td>...</td>\n",
       "      <td>0.0</td>\n",
       "      <td>Não</td>\n",
       "      <td>Não</td>\n",
       "      <td>Não</td>\n",
       "      <td>Não</td>\n",
       "      <td>Não</td>\n",
       "      <td>Não</td>\n",
       "      <td>Não</td>\n",
       "      <td>Não</td>\n",
       "      <td>Sim</td>\n",
       "    </tr>\n",
       "  </tbody>\n",
       "</table>\n",
       "<p>5 rows × 21 columns</p>\n",
       "</div>"
      ],
      "text/plain": [
       "   sequencial_sessao data_sessao sigla_partido sigla_uf_partido  \\\n",
       "0                  1  2021-04-27           PSD               BA   \n",
       "1                  1  2021-04-27            PP               PI   \n",
       "2                  1  2021-04-27           PSD               BA   \n",
       "3                  1  2021-04-27            PP               PI   \n",
       "4                  1  2021-04-27           PSD               BA   \n",
       "\n",
       "                      bloco_parlamentar nome_discursante genero_discursante  \\\n",
       "0                                   NaN     OTTO ALENCAR          Masculino   \n",
       "1  Bloco Parlamentar Unidos pelo Brasil    CIRO NOGUEIRA          Masculino   \n",
       "2                                   NaN     OTTO ALENCAR          Masculino   \n",
       "3  Bloco Parlamentar Unidos pelo Brasil    CIRO NOGUEIRA          Masculino   \n",
       "4                                   NaN     OTTO ALENCAR          Masculino   \n",
       "\n",
       "  categoria_discursante                                     texto_discurso  \\\n",
       "0             Senador/a  Invocando a proteção de Deus, declaro aberta a...   \n",
       "1             Senador/a  Sr. Presidente, Sras. e Srs. Senadores, eu ach...   \n",
       "2             Senador/a  Senador Ciro Nogueira, esta é uma Comissão Par...   \n",
       "3             Senador/a  Sr. Presidente, não é o caso de indeferir ou n...   \n",
       "4             Senador/a     Eu indeferi. Sou Presidente e posso indeferir.   \n",
       "\n",
       "  horario_inicio_discurso  ... duracao_discurso  sinalizacao_pela_ordem  \\\n",
       "0                10:00:00  ...              0.0                     Não   \n",
       "1                10:00:00  ...            240.0                     Não   \n",
       "2                10:04:00  ...              0.0                     Não   \n",
       "3                10:04:00  ...              0.0                     Não   \n",
       "4                10:04:00  ...              0.0                     Não   \n",
       "\n",
       "  sinalizacao_questao_ordem sinalizacao_fora_microfone  \\\n",
       "0                       Não                        Não   \n",
       "1                       Sim                        Não   \n",
       "2                       Não                        Não   \n",
       "3                       Não                        Não   \n",
       "4                       Não                        Não   \n",
       "\n",
       "  sinalizacao_responder_questao_ordem sinalizacao_por_videoconferencia  \\\n",
       "0                                 Não                              Não   \n",
       "1                                 Não                              Não   \n",
       "2                                 Não                              Não   \n",
       "3                                 Não                              Não   \n",
       "4                                 Não                              Não   \n",
       "\n",
       "  sinalizacao_para_interpelar sinalizacao_para_expor sinalizacao_para_depor  \\\n",
       "0                         Não                    Não                    Não   \n",
       "1                         Não                    Não                    Não   \n",
       "2                         Não                    Não                    Não   \n",
       "3                         Não                    Não                    Não   \n",
       "4                         Não                    Não                    Não   \n",
       "\n",
       "  sinalizacao_como_presidente  \n",
       "0                         Sim  \n",
       "1                         Não  \n",
       "2                         Sim  \n",
       "3                         Não  \n",
       "4                         Sim  \n",
       "\n",
       "[5 rows x 21 columns]"
      ]
     },
     "execution_count": 3,
     "metadata": {},
     "output_type": "execute_result"
    }
   ],
   "source": [
    "df.head()"
   ]
  },
  {
   "cell_type": "markdown",
   "id": "eef35982",
   "metadata": {},
   "source": [
    "\n",
    "\n",
    "Também é util verificar a descrição oficial do conjunto de dados. <br> https://basedosdados.org/dataset/br-senado-cpipandemia\n",
    "<br>\n",
    "<br>\n",
    "A documentação dos dados lista três colunas identificadoras. Os dados estão na ordem em que forma produzidas nas sessões. \n",
    "\n"
   ]
  },
  {
   "cell_type": "markdown",
   "id": "e01649d9",
   "metadata": {},
   "source": [
    "### Verificando os ítens únicos da coluna 'sequencial_sessão'"
   ]
  },
  {
   "cell_type": "code",
   "execution_count": 4,
   "id": "d3c94f5d",
   "metadata": {},
   "outputs": [
    {
     "data": {
      "text/plain": [
       "array([ 1,  2,  3,  4,  5,  6,  7,  8,  9, 10, 11, 12, 13, 14, 15, 16, 17,\n",
       "       18, 19, 20, 21, 22, 23, 24, 25, 26, 27, 28, 29, 30, 31, 32, 33, 34,\n",
       "       35, 36, 37], dtype=int64)"
      ]
     },
     "execution_count": 4,
     "metadata": {},
     "output_type": "execute_result"
    }
   ],
   "source": [
    "df['sequencial_sessao'].unique()"
   ]
  },
  {
   "cell_type": "markdown",
   "id": "659a6a4f",
   "metadata": {},
   "source": [
    "\n",
    "De acordo com os dados acima, ocorreram 37 sessões ao longo de ... <b>quantos dias?</b> \n",
    "<br>\n",
    "<br>\n",
    "Na base dados podemos identificar facilmente a data inicial (da 1ª sessão) data final(da 37ª sessão). É possível obter o total de dias pela diferença entre o ultimo e o primeiro dia.\n",
    "<br>\n",
    "\n",
    "> ### Observação:   \n",
    "Como veremos adiante, o tipo de dado representando as datas não é um formato de *tempo*, por assim dizer. Para contarmos os dias entre a data final, e a data inicial, é necessário converter o tipo de dado para **datetime**\n",
    "\n",
    "<br>"
   ]
  },
  {
   "cell_type": "markdown",
   "id": "cd2cdaaf",
   "metadata": {},
   "source": [
    "### Analisando a coluna 'data_sessao'\n",
    "#### Data inicial"
   ]
  },
  {
   "cell_type": "code",
   "execution_count": 5,
   "id": "10d7154d",
   "metadata": {},
   "outputs": [
    {
     "data": {
      "text/plain": [
       "0    2021-04-27\n",
       "1    2021-04-27\n",
       "2    2021-04-27\n",
       "Name: data_sessao, dtype: object"
      ]
     },
     "execution_count": 5,
     "metadata": {},
     "output_type": "execute_result"
    }
   ],
   "source": [
    "# exibindo os três primeiros ítens da coluna sessão\n",
    "df['data_sessao'].head(3)"
   ]
  },
  {
   "cell_type": "markdown",
   "id": "9ea37209",
   "metadata": {},
   "source": [
    "#### Data final"
   ]
  },
  {
   "cell_type": "code",
   "execution_count": 6,
   "id": "748558ed",
   "metadata": {},
   "outputs": [
    {
     "data": {
      "text/plain": [
       "54910    2021-07-15\n",
       "54911    2021-07-15\n",
       "54912    2021-07-15\n",
       "Name: data_sessao, dtype: object"
      ]
     },
     "execution_count": 6,
     "metadata": {},
     "output_type": "execute_result"
    }
   ],
   "source": [
    "# exbindo os três ultimos ítens da coluna data_sessao\n",
    "df['data_sessao'].tail(3)"
   ]
  },
  {
   "cell_type": "markdown",
   "id": "eacfd95a",
   "metadata": {},
   "source": [
    "\n",
    "É possível estipular um período de duração da CPI pelas datas inicial e final. Mas convertendo o tipo de dado de \"objeto\" para \"datetime\" podemos obter dados mais precisos, como por exemplo a quantidade de dias ou semanas decorridos entre a 1ª e a 37ª sessão.\n",
    "\n",
    " "
   ]
  },
  {
   "cell_type": "markdown",
   "id": "0ed2360f",
   "metadata": {},
   "source": [
    "### Convertendo a data: *de objeto para datetime*\n",
    "importando módulos"
   ]
  },
  {
   "cell_type": "code",
   "execution_count": 7,
   "id": "40b2b537",
   "metadata": {},
   "outputs": [],
   "source": [
    "import datetime"
   ]
  },
  {
   "cell_type": "code",
   "execution_count": 8,
   "id": "a764de76",
   "metadata": {},
   "outputs": [],
   "source": [
    "from dateutil.relativedelta import relativedelta"
   ]
  },
  {
   "cell_type": "code",
   "execution_count": 9,
   "id": "afc0c3df",
   "metadata": {},
   "outputs": [],
   "source": [
    "from datetime import date"
   ]
  },
  {
   "cell_type": "markdown",
   "id": "ee164eb4",
   "metadata": {},
   "source": [
    "#### Convertendo data\n",
    "convertendo o objeto data para datetime e salvando e uma nova coluna"
   ]
  },
  {
   "cell_type": "code",
   "execution_count": 10,
   "id": "880a3962",
   "metadata": {},
   "outputs": [],
   "source": [
    "df['date_time'] = pd.to_datetime(df['data_sessao'], infer_datetime_format=True)"
   ]
  },
  {
   "cell_type": "code",
   "execution_count": 11,
   "id": "5ae6ec74",
   "metadata": {},
   "outputs": [
    {
     "name": "stdout",
     "output_type": "stream",
     "text": [
      "Data no conjunto de dados orinal:\n",
      "data_sessao    object\n",
      "dtype: object\n",
      "\n",
      "\n",
      "Data convertida para datetime:\n",
      "date_time    datetime64[ns]\n",
      "dtype: object\n"
     ]
    }
   ],
   "source": [
    "print(\"Data no conjunto de dados orinal:\")\n",
    "print(df[['data_sessao']].dtypes)\n",
    "print()\n",
    "print()\n",
    "print(\"Data convertida para datetime:\")\n",
    "print(df[['date_time']].dtypes)"
   ]
  },
  {
   "cell_type": "markdown",
   "id": "d7e034e6",
   "metadata": {},
   "source": [
    "#### Obtendo o total de dias entre a 1ª e a 37ª sessão\n",
    "Encontrando a diferença entre o ultimo dia(índice 54912) e o primeiro dia(índice 0)"
   ]
  },
  {
   "cell_type": "code",
   "execution_count": 12,
   "id": "e01ef70f",
   "metadata": {},
   "outputs": [],
   "source": [
    "total_dias = df['date_time'][54912] - df['date_time'][0]"
   ]
  },
  {
   "cell_type": "code",
   "execution_count": 13,
   "id": "836e33dd",
   "metadata": {},
   "outputs": [
    {
     "name": "stdout",
     "output_type": "stream",
     "text": [
      "79 dias\n"
     ]
    }
   ],
   "source": [
    "print(total_dias.days, \"dias\")"
   ]
  },
  {
   "cell_type": "markdown",
   "id": "66577236",
   "metadata": {},
   "source": [
    ">37 sessões ao longo de 79 dias.\n"
   ]
  },
  {
   "cell_type": "markdown",
   "id": "6399ff54",
   "metadata": {},
   "source": [
    "### Exibindo informações mais gerais"
   ]
  },
  {
   "cell_type": "code",
   "execution_count": 14,
   "id": "34564944",
   "metadata": {},
   "outputs": [
    {
     "name": "stdout",
     "output_type": "stream",
     "text": [
      "<class 'pandas.core.frame.DataFrame'>\n",
      "RangeIndex: 54913 entries, 0 to 54912\n",
      "Data columns (total 22 columns):\n",
      " #   Column                               Non-Null Count  Dtype         \n",
      "---  ------                               --------------  -----         \n",
      " 0   sequencial_sessao                    54913 non-null  int64         \n",
      " 1   data_sessao                          54913 non-null  object        \n",
      " 2   sigla_partido                        54913 non-null  object        \n",
      " 3   sigla_uf_partido                     39182 non-null  object        \n",
      " 4   bloco_parlamentar                    29630 non-null  object        \n",
      " 5   nome_discursante                     54913 non-null  object        \n",
      " 6   genero_discursante                   54913 non-null  object        \n",
      " 7   categoria_discursante                54913 non-null  object        \n",
      " 8   texto_discurso                       54913 non-null  object        \n",
      " 9   horario_inicio_discurso              54913 non-null  object        \n",
      " 10  horario_fim_discurso                 54875 non-null  object        \n",
      " 11  duracao_discurso                     54875 non-null  float64       \n",
      " 12  sinalizacao_pela_ordem               54913 non-null  object        \n",
      " 13  sinalizacao_questao_ordem            54913 non-null  object        \n",
      " 14  sinalizacao_fora_microfone           54913 non-null  object        \n",
      " 15  sinalizacao_responder_questao_ordem  54913 non-null  object        \n",
      " 16  sinalizacao_por_videoconferencia     54913 non-null  object        \n",
      " 17  sinalizacao_para_interpelar          54913 non-null  object        \n",
      " 18  sinalizacao_para_expor               54913 non-null  object        \n",
      " 19  sinalizacao_para_depor               54913 non-null  object        \n",
      " 20  sinalizacao_como_presidente          54913 non-null  object        \n",
      " 21  date_time                            54913 non-null  datetime64[ns]\n",
      "dtypes: datetime64[ns](1), float64(1), int64(1), object(19)\n",
      "memory usage: 9.2+ MB\n"
     ]
    }
   ],
   "source": [
    "df.info()"
   ]
  },
  {
   "cell_type": "markdown",
   "id": "078c9bac",
   "metadata": {},
   "source": [
    "### Filtrando colunas com informações mais relevantes \n",
    "Por ora, nenhuma das colunas identificadas com \"sinalizacao_\" apresenta dados que possam interessar. Seguiremos sem essas colunas. <br>\n",
    "- Ao invés da coluna original \"data_sessao\", prosseguiremos com a coluna com dados convertidos \"date_time\". \n",
    "- Também podemos seguir com a duração do discurso, e descatar o horário inicial/final."
   ]
  },
  {
   "cell_type": "code",
   "execution_count": 15,
   "id": "354fbd76",
   "metadata": {},
   "outputs": [],
   "source": [
    "selecao = df[['sequencial_sessao', 'date_time', 'sigla_partido', 'sigla_uf_partido',\n",
    "       'bloco_parlamentar', 'nome_discursante', 'genero_discursante',\n",
    "       'categoria_discursante', 'texto_discurso', 'duracao_discurso']]"
   ]
  },
  {
   "cell_type": "markdown",
   "id": "c6c0181f",
   "metadata": {},
   "source": [
    "### Salvando as colunas filtradas em um novo dataframe"
   ]
  },
  {
   "cell_type": "code",
   "execution_count": 16,
   "id": "b0bc03cd",
   "metadata": {},
   "outputs": [],
   "source": [
    "disc = df.filter(selecao)"
   ]
  },
  {
   "cell_type": "code",
   "execution_count": 17,
   "id": "be453a38",
   "metadata": {},
   "outputs": [
    {
     "data": {
      "text/html": [
       "<div>\n",
       "<style scoped>\n",
       "    .dataframe tbody tr th:only-of-type {\n",
       "        vertical-align: middle;\n",
       "    }\n",
       "\n",
       "    .dataframe tbody tr th {\n",
       "        vertical-align: top;\n",
       "    }\n",
       "\n",
       "    .dataframe thead th {\n",
       "        text-align: right;\n",
       "    }\n",
       "</style>\n",
       "<table border=\"1\" class=\"dataframe\">\n",
       "  <thead>\n",
       "    <tr style=\"text-align: right;\">\n",
       "      <th></th>\n",
       "      <th>sequencial_sessao</th>\n",
       "      <th>date_time</th>\n",
       "      <th>sigla_partido</th>\n",
       "      <th>sigla_uf_partido</th>\n",
       "      <th>bloco_parlamentar</th>\n",
       "      <th>nome_discursante</th>\n",
       "      <th>genero_discursante</th>\n",
       "      <th>categoria_discursante</th>\n",
       "      <th>texto_discurso</th>\n",
       "      <th>duracao_discurso</th>\n",
       "    </tr>\n",
       "  </thead>\n",
       "  <tbody>\n",
       "    <tr>\n",
       "      <th>0</th>\n",
       "      <td>1</td>\n",
       "      <td>2021-04-27</td>\n",
       "      <td>PSD</td>\n",
       "      <td>BA</td>\n",
       "      <td>NaN</td>\n",
       "      <td>OTTO ALENCAR</td>\n",
       "      <td>Masculino</td>\n",
       "      <td>Senador/a</td>\n",
       "      <td>Invocando a proteção de Deus, declaro aberta a...</td>\n",
       "      <td>0.0</td>\n",
       "    </tr>\n",
       "    <tr>\n",
       "      <th>1</th>\n",
       "      <td>1</td>\n",
       "      <td>2021-04-27</td>\n",
       "      <td>PP</td>\n",
       "      <td>PI</td>\n",
       "      <td>Bloco Parlamentar Unidos pelo Brasil</td>\n",
       "      <td>CIRO NOGUEIRA</td>\n",
       "      <td>Masculino</td>\n",
       "      <td>Senador/a</td>\n",
       "      <td>Sr. Presidente, Sras. e Srs. Senadores, eu ach...</td>\n",
       "      <td>240.0</td>\n",
       "    </tr>\n",
       "  </tbody>\n",
       "</table>\n",
       "</div>"
      ],
      "text/plain": [
       "   sequencial_sessao  date_time sigla_partido sigla_uf_partido  \\\n",
       "0                  1 2021-04-27           PSD               BA   \n",
       "1                  1 2021-04-27            PP               PI   \n",
       "\n",
       "                      bloco_parlamentar nome_discursante genero_discursante  \\\n",
       "0                                   NaN     OTTO ALENCAR          Masculino   \n",
       "1  Bloco Parlamentar Unidos pelo Brasil    CIRO NOGUEIRA          Masculino   \n",
       "\n",
       "  categoria_discursante                                     texto_discurso  \\\n",
       "0             Senador/a  Invocando a proteção de Deus, declaro aberta a...   \n",
       "1             Senador/a  Sr. Presidente, Sras. e Srs. Senadores, eu ach...   \n",
       "\n",
       "   duracao_discurso  \n",
       "0               0.0  \n",
       "1             240.0  "
      ]
     },
     "execution_count": 17,
     "metadata": {},
     "output_type": "execute_result"
    }
   ],
   "source": [
    "disc.head(2)"
   ]
  },
  {
   "cell_type": "markdown",
   "id": "1421f045",
   "metadata": {},
   "source": [
    "\n",
    "\n",
    "Até aqui buscou-se apenas buscou-se capiturar uma visão geral acerca dos enventos envolvendo os dados.\n",
    "<br>\n",
    "<br>\n",
    "Sabemos que a base de dados conta com: \n",
    "-  54.913 linhas\n",
    "-  21 colunas originalmente (prosseguiremos com 10)\n",
    "-  A CPI da Pandemia teve 37 sessões em 79 dias\n",
    "\n"
   ]
  },
  {
   "cell_type": "markdown",
   "id": "260679eb",
   "metadata": {},
   "source": [
    "#### Explorando a coluna categoria_discursante\n",
    "As 54.913 linhas estão preenchidas por corpora de língua oral. A categoria_discursante parece reveladora das pessoas que produziram o corpora. Vale a pena explorar."
   ]
  },
  {
   "cell_type": "code",
   "execution_count": 18,
   "id": "6e93fa34",
   "metadata": {},
   "outputs": [
    {
     "data": {
      "text/html": [
       "<div>\n",
       "<style scoped>\n",
       "    .dataframe tbody tr th:only-of-type {\n",
       "        vertical-align: middle;\n",
       "    }\n",
       "\n",
       "    .dataframe tbody tr th {\n",
       "        vertical-align: top;\n",
       "    }\n",
       "\n",
       "    .dataframe thead th {\n",
       "        text-align: right;\n",
       "    }\n",
       "</style>\n",
       "<table border=\"1\" class=\"dataframe\">\n",
       "  <thead>\n",
       "    <tr style=\"text-align: right;\">\n",
       "      <th></th>\n",
       "      <th>categoria_discursante</th>\n",
       "    </tr>\n",
       "  </thead>\n",
       "  <tbody>\n",
       "    <tr>\n",
       "      <th>Senador/a</th>\n",
       "      <td>38287</td>\n",
       "    </tr>\n",
       "    <tr>\n",
       "      <th>Depoente/Convidado</th>\n",
       "      <td>16626</td>\n",
       "    </tr>\n",
       "  </tbody>\n",
       "</table>\n",
       "</div>"
      ],
      "text/plain": [
       "                    categoria_discursante\n",
       "Senador/a                           38287\n",
       "Depoente/Convidado                  16626"
      ]
     },
     "execution_count": 18,
     "metadata": {},
     "output_type": "execute_result"
    }
   ],
   "source": [
    "disc['categoria_discursante'].value_counts().to_frame()"
   ]
  },
  {
   "cell_type": "markdown",
   "id": "16439f51",
   "metadata": {},
   "source": [
    "\n",
    "Há apenas duas categorias: 'Senador/a' e 'Depoente/Convidado'.\n",
    "<br>\n",
    "Aqui pode caber algumas decisões: (1) continuar o trabalho com a base de dados inteira. (2) limitar aos discursos dos parlamentares ou aos (3) discursos dos convidados. <br>\n",
    "<br>\n",
    "- Como o procedimento empregado é heurístico(para ver no que dá), pode ser interessante reduzir a base dados. Entre outros benefícios, é preciso levar em conta o consumo de recursos em termos de memória e processamento em tarefas que exigirão mais do equipamento no futuro.\n",
    "<br>A tabela acima mostra que, se decidirmos pela categoria Senador/a, poderemos abrir mão de mais de 16 mil observações.\n"
   ]
  },
  {
   "cell_type": "markdown",
   "id": "601935e2",
   "metadata": {},
   "source": [
    "### Selecionando discursos dos Senadores e salvando em uma variável"
   ]
  },
  {
   "cell_type": "code",
   "execution_count": 19,
   "id": "f603011d",
   "metadata": {},
   "outputs": [],
   "source": [
    "sen = disc[disc['categoria_discursante']=='Senador/a']"
   ]
  },
  {
   "cell_type": "markdown",
   "id": "1f9a7feb",
   "metadata": {},
   "source": [
    "### Veficiando a distribuição dos discursos entre os parlamentares"
   ]
  },
  {
   "cell_type": "code",
   "execution_count": 20,
   "id": "c0fd44e0",
   "metadata": {},
   "outputs": [
    {
     "data": {
      "text/html": [
       "<div>\n",
       "<style scoped>\n",
       "    .dataframe tbody tr th:only-of-type {\n",
       "        vertical-align: middle;\n",
       "    }\n",
       "\n",
       "    .dataframe tbody tr th {\n",
       "        vertical-align: top;\n",
       "    }\n",
       "\n",
       "    .dataframe thead th {\n",
       "        text-align: right;\n",
       "    }\n",
       "</style>\n",
       "<table border=\"1\" class=\"dataframe\">\n",
       "  <thead>\n",
       "    <tr style=\"text-align: right;\">\n",
       "      <th></th>\n",
       "      <th>nome_discursante</th>\n",
       "    </tr>\n",
       "  </thead>\n",
       "  <tbody>\n",
       "    <tr>\n",
       "      <th>OMAR AZIZ</th>\n",
       "      <td>7067</td>\n",
       "    </tr>\n",
       "    <tr>\n",
       "      <th>RENAN CALHEIROS</th>\n",
       "      <td>7059</td>\n",
       "    </tr>\n",
       "    <tr>\n",
       "      <th>RANDOLFE RODRIGUES</th>\n",
       "      <td>4748</td>\n",
       "    </tr>\n",
       "    <tr>\n",
       "      <th>MARCOS ROGÉRIO</th>\n",
       "      <td>3501</td>\n",
       "    </tr>\n",
       "    <tr>\n",
       "      <th>ELIZIANE GAMA</th>\n",
       "      <td>1933</td>\n",
       "    </tr>\n",
       "    <tr>\n",
       "      <th>EDUARDO GIRÃO</th>\n",
       "      <td>1357</td>\n",
       "    </tr>\n",
       "    <tr>\n",
       "      <th>OTTO ALENCAR</th>\n",
       "      <td>1259</td>\n",
       "    </tr>\n",
       "    <tr>\n",
       "      <th>FERNANDO BEZERRA COELHO</th>\n",
       "      <td>1182</td>\n",
       "    </tr>\n",
       "    <tr>\n",
       "      <th>HUMBERTO COSTA</th>\n",
       "      <td>1145</td>\n",
       "    </tr>\n",
       "    <tr>\n",
       "      <th>ALESSANDRO VIEIRA</th>\n",
       "      <td>1142</td>\n",
       "    </tr>\n",
       "    <tr>\n",
       "      <th>LUIS CARLOS HEINZE</th>\n",
       "      <td>838</td>\n",
       "    </tr>\n",
       "    <tr>\n",
       "      <th>ROGÉRIO CARVALHO</th>\n",
       "      <td>771</td>\n",
       "    </tr>\n",
       "    <tr>\n",
       "      <th>EDUARDO BRAGA</th>\n",
       "      <td>753</td>\n",
       "    </tr>\n",
       "    <tr>\n",
       "      <th>SORAYA THRONICKE</th>\n",
       "      <td>748</td>\n",
       "    </tr>\n",
       "    <tr>\n",
       "      <th>IZALCI LUCAS</th>\n",
       "      <td>702</td>\n",
       "    </tr>\n",
       "    <tr>\n",
       "      <th>SIMONE TEBET</th>\n",
       "      <td>691</td>\n",
       "    </tr>\n",
       "    <tr>\n",
       "      <th>FABIANO CONTARATO</th>\n",
       "      <td>614</td>\n",
       "    </tr>\n",
       "    <tr>\n",
       "      <th>JORGINHO MELLO</th>\n",
       "      <td>526</td>\n",
       "    </tr>\n",
       "    <tr>\n",
       "      <th>FLÁVIO BOLSONARO</th>\n",
       "      <td>395</td>\n",
       "    </tr>\n",
       "    <tr>\n",
       "      <th>CIRO NOGUEIRA</th>\n",
       "      <td>368</td>\n",
       "    </tr>\n",
       "    <tr>\n",
       "      <th>LEILA BARROS</th>\n",
       "      <td>313</td>\n",
       "    </tr>\n",
       "    <tr>\n",
       "      <th>MARCOS DO VAL</th>\n",
       "      <td>261</td>\n",
       "    </tr>\n",
       "    <tr>\n",
       "      <th>TASSO JEREISSATI</th>\n",
       "      <td>217</td>\n",
       "    </tr>\n",
       "    <tr>\n",
       "      <th>JEAN PAUL PRATES</th>\n",
       "      <td>206</td>\n",
       "    </tr>\n",
       "    <tr>\n",
       "      <th>ZENAIDE MAIA</th>\n",
       "      <td>102</td>\n",
       "    </tr>\n",
       "    <tr>\n",
       "      <th>JORGE KAJURU</th>\n",
       "      <td>73</td>\n",
       "    </tr>\n",
       "    <tr>\n",
       "      <th>REGUFFE</th>\n",
       "      <td>61</td>\n",
       "    </tr>\n",
       "    <tr>\n",
       "      <th>STYVENSON VALENTIM</th>\n",
       "      <td>47</td>\n",
       "    </tr>\n",
       "    <tr>\n",
       "      <th>ANGELO CORONEL</th>\n",
       "      <td>43</td>\n",
       "    </tr>\n",
       "    <tr>\n",
       "      <th>ROBERTO ROCHA</th>\n",
       "      <td>37</td>\n",
       "    </tr>\n",
       "    <tr>\n",
       "      <th>MARA GABRILLI</th>\n",
       "      <td>22</td>\n",
       "    </tr>\n",
       "    <tr>\n",
       "      <th>TELMÁRIO MOTA</th>\n",
       "      <td>20</td>\n",
       "    </tr>\n",
       "    <tr>\n",
       "      <th>KÁTIA ABREU</th>\n",
       "      <td>20</td>\n",
       "    </tr>\n",
       "    <tr>\n",
       "      <th>MECIAS DE JESUS</th>\n",
       "      <td>13</td>\n",
       "    </tr>\n",
       "    <tr>\n",
       "      <th>GIORDANO</th>\n",
       "      <td>12</td>\n",
       "    </tr>\n",
       "    <tr>\n",
       "      <th>NELSINHO TRAD</th>\n",
       "      <td>11</td>\n",
       "    </tr>\n",
       "    <tr>\n",
       "      <th>CARLOS PORTINHO</th>\n",
       "      <td>9</td>\n",
       "    </tr>\n",
       "    <tr>\n",
       "      <th>VANDERLAN CARDOSO</th>\n",
       "      <td>8</td>\n",
       "    </tr>\n",
       "    <tr>\n",
       "      <th>PAULO ROCHA</th>\n",
       "      <td>5</td>\n",
       "    </tr>\n",
       "    <tr>\n",
       "      <th>ROSE DE FREITAS</th>\n",
       "      <td>4</td>\n",
       "    </tr>\n",
       "    <tr>\n",
       "      <th>RODRIGO CUNHA</th>\n",
       "      <td>2</td>\n",
       "    </tr>\n",
       "    <tr>\n",
       "      <th>WEVERTON</th>\n",
       "      <td>1</td>\n",
       "    </tr>\n",
       "    <tr>\n",
       "      <th>DANIELLA RIBEIRO</th>\n",
       "      <td>1</td>\n",
       "    </tr>\n",
       "  </tbody>\n",
       "</table>\n",
       "</div>"
      ],
      "text/plain": [
       "                         nome_discursante\n",
       "OMAR AZIZ                            7067\n",
       "RENAN CALHEIROS                      7059\n",
       "RANDOLFE RODRIGUES                   4748\n",
       "MARCOS ROGÉRIO                       3501\n",
       "ELIZIANE GAMA                        1933\n",
       "EDUARDO GIRÃO                        1357\n",
       "OTTO ALENCAR                         1259\n",
       "FERNANDO BEZERRA COELHO              1182\n",
       "HUMBERTO COSTA                       1145\n",
       "ALESSANDRO VIEIRA                    1142\n",
       "LUIS CARLOS HEINZE                    838\n",
       "ROGÉRIO CARVALHO                      771\n",
       "EDUARDO BRAGA                         753\n",
       "SORAYA THRONICKE                      748\n",
       "IZALCI LUCAS                          702\n",
       "SIMONE TEBET                          691\n",
       "FABIANO CONTARATO                     614\n",
       "JORGINHO MELLO                        526\n",
       "FLÁVIO BOLSONARO                      395\n",
       "CIRO NOGUEIRA                         368\n",
       "LEILA BARROS                          313\n",
       "MARCOS DO VAL                         261\n",
       "TASSO JEREISSATI                      217\n",
       "JEAN PAUL PRATES                      206\n",
       "ZENAIDE MAIA                          102\n",
       "JORGE KAJURU                           73\n",
       "REGUFFE                                61\n",
       "STYVENSON VALENTIM                     47\n",
       "ANGELO CORONEL                         43\n",
       "ROBERTO ROCHA                          37\n",
       "MARA GABRILLI                          22\n",
       "TELMÁRIO MOTA                          20\n",
       "KÁTIA ABREU                            20\n",
       "MECIAS DE JESUS                        13\n",
       "GIORDANO                               12\n",
       "NELSINHO TRAD                          11\n",
       "CARLOS PORTINHO                         9\n",
       "VANDERLAN CARDOSO                       8\n",
       "PAULO ROCHA                             5\n",
       "ROSE DE FREITAS                         4\n",
       "RODRIGO CUNHA                           2\n",
       "WEVERTON                                1\n",
       "DANIELLA RIBEIRO                        1"
      ]
     },
     "execution_count": 20,
     "metadata": {},
     "output_type": "execute_result"
    }
   ],
   "source": [
    "sen['nome_discursante'].value_counts().to_frame()"
   ]
  },
  {
   "cell_type": "markdown",
   "id": "f848fff9",
   "metadata": {},
   "source": [
    "\n",
    "Percebe-se um número destacado de observações relacionado a 4 individuos. Sabe-se que pelo menos 3 destes idivíduos atuaram como presidentes das sessões. <br>\n",
    "Vale a pena explorar visualmente esta discrepancia de observações entre os individuos graficamente.\n"
   ]
  },
  {
   "cell_type": "code",
   "execution_count": 21,
   "id": "82b7fee5",
   "metadata": {},
   "outputs": [
    {
     "data": {
      "text/plain": [
       "<AxesSubplot:>"
      ]
     },
     "execution_count": 21,
     "metadata": {},
     "output_type": "execute_result"
    },
    {
     "data": {
      "image/png": "[encoded data removed]",
      "text/plain": [
       "<Figure size 432x288 with 1 Axes>"
      ]
     },
     "metadata": {
      "needs_background": "light"
     },
     "output_type": "display_data"
    }
   ],
   "source": [
    "sen['nome_discursante'].value_counts().to_frame().boxplot()"
   ]
  },
  {
   "cell_type": "markdown",
   "id": "a93d1498",
   "metadata": {},
   "source": [
    "\n",
    "O gráfico de caixa mostra o quão distante da média estão os indvídulos posicionados no topo da tabela.\n",
    "Talvez o agrupamento pela categoria_discursante não seja a melhor escolha em razão desta discrepância dos individuos em relação à média.<br>\n",
    "<br>\n",
    "Além disso, podemos esperar que esses indivíduos, em relação aos demais, tenham produzido mais discursos \"protocolares\" (cerimonia de abertura, informações sobre a agenda do dia, leitura de documentos, etc.)<br>\n",
    "- Vamos explorar a categoria 'bloco_parlamentar'.\n"
   ]
  },
  {
   "cell_type": "code",
   "execution_count": 22,
   "id": "ae9b68e0",
   "metadata": {},
   "outputs": [
    {
     "data": {
      "text/html": [
       "<div>\n",
       "<style scoped>\n",
       "    .dataframe tbody tr th:only-of-type {\n",
       "        vertical-align: middle;\n",
       "    }\n",
       "\n",
       "    .dataframe tbody tr th {\n",
       "        vertical-align: top;\n",
       "    }\n",
       "\n",
       "    .dataframe thead th {\n",
       "        text-align: right;\n",
       "    }\n",
       "</style>\n",
       "<table border=\"1\" class=\"dataframe\">\n",
       "  <thead>\n",
       "    <tr style=\"text-align: right;\">\n",
       "      <th></th>\n",
       "      <th>bloco_parlamentar</th>\n",
       "    </tr>\n",
       "  </thead>\n",
       "  <tbody>\n",
       "    <tr>\n",
       "      <th>Bloco Parlamentar Unidos pelo Brasil</th>\n",
       "      <td>11055</td>\n",
       "    </tr>\n",
       "    <tr>\n",
       "      <th>Bloco Parlamentar Senado Independente</th>\n",
       "      <td>8751</td>\n",
       "    </tr>\n",
       "    <tr>\n",
       "      <th>Bloco Parlamentar Vanguarda</th>\n",
       "      <td>4036</td>\n",
       "    </tr>\n",
       "    <tr>\n",
       "      <th>Bloco Parlamentar PODEMOSPSDB/PSL/</th>\n",
       "      <td>3539</td>\n",
       "    </tr>\n",
       "    <tr>\n",
       "      <th>Bloco Parlamentar da Resistência Democrática</th>\n",
       "      <td>2249</td>\n",
       "    </tr>\n",
       "  </tbody>\n",
       "</table>\n",
       "</div>"
      ],
      "text/plain": [
       "                                              bloco_parlamentar\n",
       "Bloco Parlamentar Unidos pelo Brasil                      11055\n",
       "Bloco Parlamentar Senado Independente                      8751\n",
       "Bloco Parlamentar Vanguarda                                4036\n",
       "Bloco Parlamentar PODEMOSPSDB/PSL/                         3539\n",
       "Bloco Parlamentar da Resistência Democrática               2249"
      ]
     },
     "execution_count": 22,
     "metadata": {},
     "output_type": "execute_result"
    }
   ],
   "source": [
    "sen['bloco_parlamentar'].value_counts().to_frame()"
   ]
  },
  {
   "cell_type": "markdown",
   "id": "03bc5fac",
   "metadata": {},
   "source": [
    "\n",
    ">As observações parecem melhor distribuídas por bloco_parlamentar. Vejamos o gráfico de caixa.\n"
   ]
  },
  {
   "cell_type": "code",
   "execution_count": 23,
   "id": "e2921d90",
   "metadata": {},
   "outputs": [
    {
     "data": {
      "text/plain": [
       "<AxesSubplot:>"
      ]
     },
     "execution_count": 23,
     "metadata": {},
     "output_type": "execute_result"
    },
    {
     "data": {
      "image/png": "[encoded data removed]",
      "text/plain": [
       "<Figure size 432x288 with 1 Axes>"
      ]
     },
     "metadata": {
      "needs_background": "light"
     },
     "output_type": "display_data"
    }
   ],
   "source": [
    "sen['bloco_parlamentar'].value_counts().to_frame().boxplot()"
   ]
  },
  {
   "cell_type": "markdown",
   "id": "53c0e6fd",
   "metadata": {},
   "source": [
    ">Consideraremos os dados agrupados por bloco parlamentar.<br><br> Salvaremos as informações baseadas nos blocos palamentares em outra base de dados denominada bloco_p e esta será nossa base de dados daqui por diante.\n",
    "<br>\n",
    "    \n"
   ]
  },
  {
   "cell_type": "markdown",
   "id": "d929fc38",
   "metadata": {},
   "source": [
    "> Nos exemplos acima, selecionamos os dados com base nos valores das colunas (categoria_discursante, bloco_parlamentar). Agora utilizaremos uma notação diferente para fazer a seleção com base nos dados orientados pelas linhas."
   ]
  },
  {
   "cell_type": "code",
   "execution_count": 24,
   "id": "c4645133",
   "metadata": {},
   "outputs": [],
   "source": [
    "bloco_p = sen[(sen.bloco_parlamentar == 'Bloco Parlamentar Unidos pelo Brasil')\\\n",
    "    | (sen.bloco_parlamentar == 'Bloco Parlamentar Senado Independente')\\\n",
    "    | (sen.bloco_parlamentar == 'Bloco Parlamentar Vanguarda')\\\n",
    "    | (sen.bloco_parlamentar == 'Bloco Parlamentar PODEMOSPSDB/PSL/')\\\n",
    "    | (sen.bloco_parlamentar == 'Bloco Parlamentar da Resistência Democrática')]  "
   ]
  },
  {
   "cell_type": "code",
   "execution_count": 25,
   "id": "76e85a31",
   "metadata": {},
   "outputs": [
    {
     "data": {
      "text/html": [
       "<div>\n",
       "<style scoped>\n",
       "    .dataframe tbody tr th:only-of-type {\n",
       "        vertical-align: middle;\n",
       "    }\n",
       "\n",
       "    .dataframe tbody tr th {\n",
       "        vertical-align: top;\n",
       "    }\n",
       "\n",
       "    .dataframe thead th {\n",
       "        text-align: right;\n",
       "    }\n",
       "</style>\n",
       "<table border=\"1\" class=\"dataframe\">\n",
       "  <thead>\n",
       "    <tr style=\"text-align: right;\">\n",
       "      <th></th>\n",
       "      <th>sequencial_sessao</th>\n",
       "      <th>date_time</th>\n",
       "      <th>sigla_partido</th>\n",
       "      <th>sigla_uf_partido</th>\n",
       "      <th>bloco_parlamentar</th>\n",
       "      <th>nome_discursante</th>\n",
       "      <th>genero_discursante</th>\n",
       "      <th>categoria_discursante</th>\n",
       "      <th>texto_discurso</th>\n",
       "      <th>duracao_discurso</th>\n",
       "    </tr>\n",
       "  </thead>\n",
       "  <tbody>\n",
       "    <tr>\n",
       "      <th>54906</th>\n",
       "      <td>37</td>\n",
       "      <td>2021-07-15</td>\n",
       "      <td>CIDADANIA</td>\n",
       "      <td>MA</td>\n",
       "      <td>Bloco Parlamentar Senado Independente</td>\n",
       "      <td>ELIZIANE GAMA</td>\n",
       "      <td>Feminino</td>\n",
       "      <td>Senador/a</td>\n",
       "      <td>... através do sistema remoto.</td>\n",
       "      <td>0.0</td>\n",
       "    </tr>\n",
       "    <tr>\n",
       "      <th>54907</th>\n",
       "      <td>37</td>\n",
       "      <td>2021-07-15</td>\n",
       "      <td>REDE</td>\n",
       "      <td>AP</td>\n",
       "      <td>Bloco Parlamentar Senado Independente</td>\n",
       "      <td>RANDOLFE RODRIGUES</td>\n",
       "      <td>Masculino</td>\n",
       "      <td>Senador/a</td>\n",
       "      <td>Aliás, o que V. Exa. disse é a mais perfeita r...</td>\n",
       "      <td>0.0</td>\n",
       "    </tr>\n",
       "    <tr>\n",
       "      <th>54909</th>\n",
       "      <td>37</td>\n",
       "      <td>2021-07-15</td>\n",
       "      <td>REDE</td>\n",
       "      <td>AP</td>\n",
       "      <td>Bloco Parlamentar Senado Independente</td>\n",
       "      <td>RANDOLFE RODRIGUES</td>\n",
       "      <td>Masculino</td>\n",
       "      <td>Senador/a</td>\n",
       "      <td>... esta oitiva, agradecer a você a contribuiç...</td>\n",
       "      <td>0.0</td>\n",
       "    </tr>\n",
       "    <tr>\n",
       "      <th>54911</th>\n",
       "      <td>37</td>\n",
       "      <td>2021-07-15</td>\n",
       "      <td>REDE</td>\n",
       "      <td>AP</td>\n",
       "      <td>Bloco Parlamentar Senado Independente</td>\n",
       "      <td>RANDOLFE RODRIGUES</td>\n",
       "      <td>Masculino</td>\n",
       "      <td>Senador/a</td>\n",
       "      <td>Eu é que lhe agradeço, nós é que lhe agradecem...</td>\n",
       "      <td>240.0</td>\n",
       "    </tr>\n",
       "    <tr>\n",
       "      <th>54912</th>\n",
       "      <td>37</td>\n",
       "      <td>2021-07-15</td>\n",
       "      <td>REDE</td>\n",
       "      <td>AP</td>\n",
       "      <td>Bloco Parlamentar Senado Independente</td>\n",
       "      <td>RANDOLFE RODRIGUES</td>\n",
       "      <td>Masculino</td>\n",
       "      <td>Senador/a</td>\n",
       "      <td>Eu queria desejar o mais pronto restabelecimen...</td>\n",
       "      <td>NaN</td>\n",
       "    </tr>\n",
       "  </tbody>\n",
       "</table>\n",
       "</div>"
      ],
      "text/plain": [
       "       sequencial_sessao  date_time sigla_partido sigla_uf_partido  \\\n",
       "54906                 37 2021-07-15     CIDADANIA               MA   \n",
       "54907                 37 2021-07-15          REDE               AP   \n",
       "54909                 37 2021-07-15          REDE               AP   \n",
       "54911                 37 2021-07-15          REDE               AP   \n",
       "54912                 37 2021-07-15          REDE               AP   \n",
       "\n",
       "                           bloco_parlamentar    nome_discursante  \\\n",
       "54906  Bloco Parlamentar Senado Independente       ELIZIANE GAMA   \n",
       "54907  Bloco Parlamentar Senado Independente  RANDOLFE RODRIGUES   \n",
       "54909  Bloco Parlamentar Senado Independente  RANDOLFE RODRIGUES   \n",
       "54911  Bloco Parlamentar Senado Independente  RANDOLFE RODRIGUES   \n",
       "54912  Bloco Parlamentar Senado Independente  RANDOLFE RODRIGUES   \n",
       "\n",
       "      genero_discursante categoria_discursante  \\\n",
       "54906           Feminino             Senador/a   \n",
       "54907          Masculino             Senador/a   \n",
       "54909          Masculino             Senador/a   \n",
       "54911          Masculino             Senador/a   \n",
       "54912          Masculino             Senador/a   \n",
       "\n",
       "                                          texto_discurso  duracao_discurso  \n",
       "54906                     ... através do sistema remoto.               0.0  \n",
       "54907  Aliás, o que V. Exa. disse é a mais perfeita r...               0.0  \n",
       "54909  ... esta oitiva, agradecer a você a contribuiç...               0.0  \n",
       "54911  Eu é que lhe agradeço, nós é que lhe agradecem...             240.0  \n",
       "54912  Eu queria desejar o mais pronto restabelecimen...               NaN  "
      ]
     },
     "execution_count": 25,
     "metadata": {},
     "output_type": "execute_result"
    }
   ],
   "source": [
    "bloco_p.tail()"
   ]
  },
  {
   "cell_type": "code",
   "execution_count": 26,
   "id": "d2b68452",
   "metadata": {},
   "outputs": [
    {
     "name": "stdout",
     "output_type": "stream",
     "text": [
      "<class 'pandas.core.frame.DataFrame'>\n",
      "Int64Index: 29630 entries, 1 to 54912\n",
      "Data columns (total 10 columns):\n",
      " #   Column                 Non-Null Count  Dtype         \n",
      "---  ------                 --------------  -----         \n",
      " 0   sequencial_sessao      29630 non-null  int64         \n",
      " 1   date_time              29630 non-null  datetime64[ns]\n",
      " 2   sigla_partido          29630 non-null  object        \n",
      " 3   sigla_uf_partido       29630 non-null  object        \n",
      " 4   bloco_parlamentar      29630 non-null  object        \n",
      " 5   nome_discursante       29630 non-null  object        \n",
      " 6   genero_discursante     29630 non-null  object        \n",
      " 7   categoria_discursante  29630 non-null  object        \n",
      " 8   texto_discurso         29630 non-null  object        \n",
      " 9   duracao_discurso       29618 non-null  float64       \n",
      "dtypes: datetime64[ns](1), float64(1), int64(1), object(7)\n",
      "memory usage: 2.5+ MB\n"
     ]
    }
   ],
   "source": [
    "bloco_p.info()"
   ]
  },
  {
   "cell_type": "markdown",
   "id": "c9d575c9",
   "metadata": {},
   "source": [
    "\n",
    ">Como era de se esperar, houve uma leve reduzção nos dados selecionados por bloco parlamentar.\n"
   ]
  },
  {
   "cell_type": "markdown",
   "id": "04a0cb0b",
   "metadata": {},
   "source": [
    "# PARTE 2: Ferramentas linguísticas\n",
    "Depois de obter uma visão mais apropriada sobre o conjunto de dados, é hora de trabalhar sobre as mensagens. <br>\n",
    "<br> Para evidenciar o resultado do emprego de ferramentas linguísticas, vamos isolar os discursos e salvá-los como um novo conjunto de dados chamado corpus."
   ]
  },
  {
   "cell_type": "code",
   "execution_count": 27,
   "id": "8de3977e",
   "metadata": {},
   "outputs": [],
   "source": [
    "discursos = bloco_p[['texto_discurso']]"
   ]
  },
  {
   "cell_type": "code",
   "execution_count": 28,
   "id": "535bfd4a",
   "metadata": {},
   "outputs": [],
   "source": [
    "corpus = bloco_p.filter(discursos) "
   ]
  },
  {
   "cell_type": "code",
   "execution_count": 29,
   "id": "f1f7deb4",
   "metadata": {},
   "outputs": [
    {
     "data": {
      "text/html": [
       "<div>\n",
       "<style scoped>\n",
       "    .dataframe tbody tr th:only-of-type {\n",
       "        vertical-align: middle;\n",
       "    }\n",
       "\n",
       "    .dataframe tbody tr th {\n",
       "        vertical-align: top;\n",
       "    }\n",
       "\n",
       "    .dataframe thead th {\n",
       "        text-align: right;\n",
       "    }\n",
       "</style>\n",
       "<table border=\"1\" class=\"dataframe\">\n",
       "  <thead>\n",
       "    <tr style=\"text-align: right;\">\n",
       "      <th></th>\n",
       "      <th>texto_discurso</th>\n",
       "    </tr>\n",
       "  </thead>\n",
       "  <tbody>\n",
       "    <tr>\n",
       "      <th>1</th>\n",
       "      <td>Sr. Presidente, Sras. e Srs. Senadores, eu ach...</td>\n",
       "    </tr>\n",
       "    <tr>\n",
       "      <th>3</th>\n",
       "      <td>Sr. Presidente, não é o caso de indeferir ou n...</td>\n",
       "    </tr>\n",
       "    <tr>\n",
       "      <th>5</th>\n",
       "      <td>O senhor está indo contra o Regimento. Não é i...</td>\n",
       "    </tr>\n",
       "    <tr>\n",
       "      <th>7</th>\n",
       "      <td>Porque eu estou questionando hoje.</td>\n",
       "    </tr>\n",
       "    <tr>\n",
       "      <th>9</th>\n",
       "      <td>Não estou querendo dificultar...</td>\n",
       "    </tr>\n",
       "  </tbody>\n",
       "</table>\n",
       "</div>"
      ],
      "text/plain": [
       "                                      texto_discurso\n",
       "1  Sr. Presidente, Sras. e Srs. Senadores, eu ach...\n",
       "3  Sr. Presidente, não é o caso de indeferir ou n...\n",
       "5  O senhor está indo contra o Regimento. Não é i...\n",
       "7                 Porque eu estou questionando hoje.\n",
       "9                   Não estou querendo dificultar..."
      ]
     },
     "execution_count": 29,
     "metadata": {},
     "output_type": "execute_result"
    }
   ],
   "source": [
    "corpus.head()"
   ]
  },
  {
   "cell_type": "markdown",
   "id": "dea8636a",
   "metadata": {},
   "source": [
    "# spaCy\n",
    "Assim como a biblioteca Pandas facilita a análise dos dados com pouco código, a biblioteca **spaCy** facilita o processamento da lnguagem natural. Com a grande diferenca, que, ao invés de funções disponibilizadas pela biblioteca (como .head() de panas), também lidaremos com funções criadas pelo usuário (parte importante do conhecimento sobre Python que precisamos dominar)."
   ]
  },
  {
   "cell_type": "code",
   "execution_count": 30,
   "id": "082954cd",
   "metadata": {},
   "outputs": [],
   "source": [
    "import spacy"
   ]
  },
  {
   "cell_type": "markdown",
   "id": "dfa864d4",
   "metadata": {},
   "source": [
    ">Além de importar a biliboteca spaCy (no código acima), é preciso criar um objeto para \"guardar\" funções e o corpus da línguage portuguesa. Neste caso, o objeto se chama nlp (de natural lnaguage processing)"
   ]
  },
  {
   "cell_type": "code",
   "execution_count": 31,
   "id": "d1f1e9a5",
   "metadata": {},
   "outputs": [],
   "source": [
    "nlp = spacy.load(\"pt_core_news_sm\")"
   ]
  },
  {
   "cell_type": "markdown",
   "id": "a8d9a3c3",
   "metadata": {},
   "source": [
    "# Engenharia de atributos\n",
    "Agora vamos utilizar as funçoes guardadas no objeto nlp e as funções ciradas usando Python para performar uma engenharia de \"atributos\". Que nada mais é do que criar novas colunas com os resultados dos procedimentos empregados sobre as mensagens. "
   ]
  },
  {
   "cell_type": "markdown",
   "id": "51cd80b3",
   "metadata": {},
   "source": [
    "### Função apra remover a pontuação do texto"
   ]
  },
  {
   "cell_type": "code",
   "execution_count": 32,
   "id": "008d623e",
   "metadata": {},
   "outputs": [],
   "source": [
    "def remove_pont(texto):\n",
    "    doc = nlp(texto)\n",
    "    limpa_pont = [palavra for palavra in doc if not palavra.is_punct]\n",
    "    sem_pont = \" \".join(palavra.text for palavra in limpa_pont)\n",
    "    return sem_pont"
   ]
  },
  {
   "cell_type": "markdown",
   "id": "5119f4a4",
   "metadata": {},
   "source": [
    "#### aplicando a funcação sobre as mensagens e salvando o resultado em uma nova coluna"
   ]
  },
  {
   "cell_type": "code",
   "execution_count": 33,
   "id": "938edcc9",
   "metadata": {},
   "outputs": [],
   "source": [
    "corpus['sem_pontuacao'] = corpus['texto_discurso'].apply(lambda x: remove_pont(x.lower()))"
   ]
  },
  {
   "cell_type": "code",
   "execution_count": 34,
   "id": "44be833a",
   "metadata": {},
   "outputs": [
    {
     "data": {
      "text/html": [
       "<div>\n",
       "<style scoped>\n",
       "    .dataframe tbody tr th:only-of-type {\n",
       "        vertical-align: middle;\n",
       "    }\n",
       "\n",
       "    .dataframe tbody tr th {\n",
       "        vertical-align: top;\n",
       "    }\n",
       "\n",
       "    .dataframe thead th {\n",
       "        text-align: right;\n",
       "    }\n",
       "</style>\n",
       "<table border=\"1\" class=\"dataframe\">\n",
       "  <thead>\n",
       "    <tr style=\"text-align: right;\">\n",
       "      <th></th>\n",
       "      <th>texto_discurso</th>\n",
       "      <th>sem_pontuacao</th>\n",
       "    </tr>\n",
       "  </thead>\n",
       "  <tbody>\n",
       "    <tr>\n",
       "      <th>1</th>\n",
       "      <td>Sr. Presidente, Sras. e Srs. Senadores, eu ach...</td>\n",
       "      <td>sr. presidente sras e srs senadores eu achava ...</td>\n",
       "    </tr>\n",
       "    <tr>\n",
       "      <th>3</th>\n",
       "      <td>Sr. Presidente, não é o caso de indeferir ou n...</td>\n",
       "      <td>sr. presidente não é o caso de indeferir ou nã...</td>\n",
       "    </tr>\n",
       "    <tr>\n",
       "      <th>5</th>\n",
       "      <td>O senhor está indo contra o Regimento. Não é i...</td>\n",
       "      <td>o senhor está indo contra o regimento não é is...</td>\n",
       "    </tr>\n",
       "    <tr>\n",
       "      <th>7</th>\n",
       "      <td>Porque eu estou questionando hoje.</td>\n",
       "      <td>porque eu estou questionando hoje</td>\n",
       "    </tr>\n",
       "    <tr>\n",
       "      <th>9</th>\n",
       "      <td>Não estou querendo dificultar...</td>\n",
       "      <td>não estou querendo dificultar</td>\n",
       "    </tr>\n",
       "  </tbody>\n",
       "</table>\n",
       "</div>"
      ],
      "text/plain": [
       "                                      texto_discurso  \\\n",
       "1  Sr. Presidente, Sras. e Srs. Senadores, eu ach...   \n",
       "3  Sr. Presidente, não é o caso de indeferir ou n...   \n",
       "5  O senhor está indo contra o Regimento. Não é i...   \n",
       "7                 Porque eu estou questionando hoje.   \n",
       "9                   Não estou querendo dificultar...   \n",
       "\n",
       "                                       sem_pontuacao  \n",
       "1  sr. presidente sras e srs senadores eu achava ...  \n",
       "3  sr. presidente não é o caso de indeferir ou nã...  \n",
       "5  o senhor está indo contra o regimento não é is...  \n",
       "7                  porque eu estou questionando hoje  \n",
       "9                      não estou querendo dificultar  "
      ]
     },
     "execution_count": 34,
     "metadata": {},
     "output_type": "execute_result"
    }
   ],
   "source": [
    "corpus.head()"
   ]
  },
  {
   "cell_type": "markdown",
   "id": "e37dd821",
   "metadata": {},
   "source": [
    "#### tamanho das mensagens (caracteres)"
   ]
  },
  {
   "cell_type": "code",
   "execution_count": 35,
   "id": "1423e79b",
   "metadata": {},
   "outputs": [],
   "source": [
    "corpus['tamanho'] = corpus['texto_discurso'].apply(lambda x: len(x) - x.count(\" \"))"
   ]
  },
  {
   "cell_type": "code",
   "execution_count": 36,
   "id": "6b80f3b2",
   "metadata": {},
   "outputs": [
    {
     "data": {
      "text/html": [
       "<div>\n",
       "<style scoped>\n",
       "    .dataframe tbody tr th:only-of-type {\n",
       "        vertical-align: middle;\n",
       "    }\n",
       "\n",
       "    .dataframe tbody tr th {\n",
       "        vertical-align: top;\n",
       "    }\n",
       "\n",
       "    .dataframe thead th {\n",
       "        text-align: right;\n",
       "    }\n",
       "</style>\n",
       "<table border=\"1\" class=\"dataframe\">\n",
       "  <thead>\n",
       "    <tr style=\"text-align: right;\">\n",
       "      <th></th>\n",
       "      <th>texto_discurso</th>\n",
       "      <th>sem_pontuacao</th>\n",
       "      <th>tamanho</th>\n",
       "    </tr>\n",
       "  </thead>\n",
       "  <tbody>\n",
       "    <tr>\n",
       "      <th>1</th>\n",
       "      <td>Sr. Presidente, Sras. e Srs. Senadores, eu ach...</td>\n",
       "      <td>sr. presidente sras e srs senadores eu achava ...</td>\n",
       "      <td>847</td>\n",
       "    </tr>\n",
       "    <tr>\n",
       "      <th>3</th>\n",
       "      <td>Sr. Presidente, não é o caso de indeferir ou n...</td>\n",
       "      <td>sr. presidente não é o caso de indeferir ou nã...</td>\n",
       "      <td>51</td>\n",
       "    </tr>\n",
       "    <tr>\n",
       "      <th>5</th>\n",
       "      <td>O senhor está indo contra o Regimento. Não é i...</td>\n",
       "      <td>o senhor está indo contra o regimento não é is...</td>\n",
       "      <td>91</td>\n",
       "    </tr>\n",
       "    <tr>\n",
       "      <th>7</th>\n",
       "      <td>Porque eu estou questionando hoje.</td>\n",
       "      <td>porque eu estou questionando hoje</td>\n",
       "      <td>30</td>\n",
       "    </tr>\n",
       "    <tr>\n",
       "      <th>9</th>\n",
       "      <td>Não estou querendo dificultar...</td>\n",
       "      <td>não estou querendo dificultar</td>\n",
       "      <td>29</td>\n",
       "    </tr>\n",
       "  </tbody>\n",
       "</table>\n",
       "</div>"
      ],
      "text/plain": [
       "                                      texto_discurso  \\\n",
       "1  Sr. Presidente, Sras. e Srs. Senadores, eu ach...   \n",
       "3  Sr. Presidente, não é o caso de indeferir ou n...   \n",
       "5  O senhor está indo contra o Regimento. Não é i...   \n",
       "7                 Porque eu estou questionando hoje.   \n",
       "9                   Não estou querendo dificultar...   \n",
       "\n",
       "                                       sem_pontuacao  tamanho  \n",
       "1  sr. presidente sras e srs senadores eu achava ...      847  \n",
       "3  sr. presidente não é o caso de indeferir ou nã...       51  \n",
       "5  o senhor está indo contra o regimento não é is...       91  \n",
       "7                  porque eu estou questionando hoje       30  \n",
       "9                      não estou querendo dificultar       29  "
      ]
     },
     "execution_count": 36,
     "metadata": {},
     "output_type": "execute_result"
    }
   ],
   "source": [
    "corpus.head()"
   ]
  },
  {
   "cell_type": "markdown",
   "id": "7528f3c2",
   "metadata": {},
   "source": [
    "## Tokenização"
   ]
  },
  {
   "cell_type": "code",
   "execution_count": 37,
   "id": "ba21b90f",
   "metadata": {},
   "outputs": [],
   "source": [
    "from spacy.tokenizer import Tokenizer"
   ]
  },
  {
   "cell_type": "code",
   "execution_count": 38,
   "id": "92d9b143",
   "metadata": {},
   "outputs": [],
   "source": [
    "tokenizer = Tokenizer(nlp.vocab)"
   ]
  },
  {
   "cell_type": "code",
   "execution_count": 39,
   "id": "e589340e",
   "metadata": {},
   "outputs": [],
   "source": [
    "def tokenizacao(texto):\n",
    "    token = tokenizer(texto)\n",
    "    return token"
   ]
  },
  {
   "cell_type": "code",
   "execution_count": 40,
   "id": "5f595205",
   "metadata": {},
   "outputs": [],
   "source": [
    "corpus['tokens'] = corpus['sem_pontuacao'].apply(lambda x: tokenizacao(x))"
   ]
  },
  {
   "cell_type": "code",
   "execution_count": 41,
   "id": "d4d368ca",
   "metadata": {},
   "outputs": [
    {
     "data": {
      "text/html": [
       "<div>\n",
       "<style scoped>\n",
       "    .dataframe tbody tr th:only-of-type {\n",
       "        vertical-align: middle;\n",
       "    }\n",
       "\n",
       "    .dataframe tbody tr th {\n",
       "        vertical-align: top;\n",
       "    }\n",
       "\n",
       "    .dataframe thead th {\n",
       "        text-align: right;\n",
       "    }\n",
       "</style>\n",
       "<table border=\"1\" class=\"dataframe\">\n",
       "  <thead>\n",
       "    <tr style=\"text-align: right;\">\n",
       "      <th></th>\n",
       "      <th>texto_discurso</th>\n",
       "      <th>sem_pontuacao</th>\n",
       "      <th>tamanho</th>\n",
       "      <th>tokens</th>\n",
       "    </tr>\n",
       "  </thead>\n",
       "  <tbody>\n",
       "    <tr>\n",
       "      <th>1</th>\n",
       "      <td>Sr. Presidente, Sras. e Srs. Senadores, eu ach...</td>\n",
       "      <td>sr. presidente sras e srs senadores eu achava ...</td>\n",
       "      <td>847</td>\n",
       "      <td>(sr., presidente, sras, e, srs, senadores, eu,...</td>\n",
       "    </tr>\n",
       "    <tr>\n",
       "      <th>3</th>\n",
       "      <td>Sr. Presidente, não é o caso de indeferir ou n...</td>\n",
       "      <td>sr. presidente não é o caso de indeferir ou nã...</td>\n",
       "      <td>51</td>\n",
       "      <td>(sr., presidente, não, é, o, caso, de, indefer...</td>\n",
       "    </tr>\n",
       "    <tr>\n",
       "      <th>5</th>\n",
       "      <td>O senhor está indo contra o Regimento. Não é i...</td>\n",
       "      <td>o senhor está indo contra o regimento não é is...</td>\n",
       "      <td>91</td>\n",
       "      <td>(o, senhor, está, indo, contra, o, regimento, ...</td>\n",
       "    </tr>\n",
       "    <tr>\n",
       "      <th>7</th>\n",
       "      <td>Porque eu estou questionando hoje.</td>\n",
       "      <td>porque eu estou questionando hoje</td>\n",
       "      <td>30</td>\n",
       "      <td>(porque, eu, estou, questionando, hoje)</td>\n",
       "    </tr>\n",
       "    <tr>\n",
       "      <th>9</th>\n",
       "      <td>Não estou querendo dificultar...</td>\n",
       "      <td>não estou querendo dificultar</td>\n",
       "      <td>29</td>\n",
       "      <td>(não, estou, querendo, dificultar)</td>\n",
       "    </tr>\n",
       "  </tbody>\n",
       "</table>\n",
       "</div>"
      ],
      "text/plain": [
       "                                      texto_discurso  \\\n",
       "1  Sr. Presidente, Sras. e Srs. Senadores, eu ach...   \n",
       "3  Sr. Presidente, não é o caso de indeferir ou n...   \n",
       "5  O senhor está indo contra o Regimento. Não é i...   \n",
       "7                 Porque eu estou questionando hoje.   \n",
       "9                   Não estou querendo dificultar...   \n",
       "\n",
       "                                       sem_pontuacao  tamanho  \\\n",
       "1  sr. presidente sras e srs senadores eu achava ...      847   \n",
       "3  sr. presidente não é o caso de indeferir ou nã...       51   \n",
       "5  o senhor está indo contra o regimento não é is...       91   \n",
       "7                  porque eu estou questionando hoje       30   \n",
       "9                      não estou querendo dificultar       29   \n",
       "\n",
       "                                              tokens  \n",
       "1  (sr., presidente, sras, e, srs, senadores, eu,...  \n",
       "3  (sr., presidente, não, é, o, caso, de, indefer...  \n",
       "5  (o, senhor, está, indo, contra, o, regimento, ...  \n",
       "7            (porque, eu, estou, questionando, hoje)  \n",
       "9                 (não, estou, querendo, dificultar)  "
      ]
     },
     "execution_count": 41,
     "metadata": {},
     "output_type": "execute_result"
    }
   ],
   "source": [
    "corpus.head()"
   ]
  },
  {
   "cell_type": "code",
   "execution_count": 42,
   "id": "2cefe94b",
   "metadata": {},
   "outputs": [],
   "source": [
    "corpus['tokens_qtd'] = corpus['tokens'].apply(lambda x: len(x))"
   ]
  },
  {
   "cell_type": "code",
   "execution_count": 43,
   "id": "f1575aba",
   "metadata": {},
   "outputs": [
    {
     "data": {
      "text/html": [
       "<div>\n",
       "<style scoped>\n",
       "    .dataframe tbody tr th:only-of-type {\n",
       "        vertical-align: middle;\n",
       "    }\n",
       "\n",
       "    .dataframe tbody tr th {\n",
       "        vertical-align: top;\n",
       "    }\n",
       "\n",
       "    .dataframe thead th {\n",
       "        text-align: right;\n",
       "    }\n",
       "</style>\n",
       "<table border=\"1\" class=\"dataframe\">\n",
       "  <thead>\n",
       "    <tr style=\"text-align: right;\">\n",
       "      <th></th>\n",
       "      <th>texto_discurso</th>\n",
       "      <th>sem_pontuacao</th>\n",
       "      <th>tamanho</th>\n",
       "      <th>tokens</th>\n",
       "      <th>tokens_qtd</th>\n",
       "    </tr>\n",
       "  </thead>\n",
       "  <tbody>\n",
       "    <tr>\n",
       "      <th>1</th>\n",
       "      <td>Sr. Presidente, Sras. e Srs. Senadores, eu ach...</td>\n",
       "      <td>sr. presidente sras e srs senadores eu achava ...</td>\n",
       "      <td>847</td>\n",
       "      <td>(sr., presidente, sras, e, srs, senadores, eu,...</td>\n",
       "      <td>182</td>\n",
       "    </tr>\n",
       "    <tr>\n",
       "      <th>3</th>\n",
       "      <td>Sr. Presidente, não é o caso de indeferir ou n...</td>\n",
       "      <td>sr. presidente não é o caso de indeferir ou nã...</td>\n",
       "      <td>51</td>\n",
       "      <td>(sr., presidente, não, é, o, caso, de, indefer...</td>\n",
       "      <td>12</td>\n",
       "    </tr>\n",
       "    <tr>\n",
       "      <th>5</th>\n",
       "      <td>O senhor está indo contra o Regimento. Não é i...</td>\n",
       "      <td>o senhor está indo contra o regimento não é is...</td>\n",
       "      <td>91</td>\n",
       "      <td>(o, senhor, está, indo, contra, o, regimento, ...</td>\n",
       "      <td>23</td>\n",
       "    </tr>\n",
       "    <tr>\n",
       "      <th>7</th>\n",
       "      <td>Porque eu estou questionando hoje.</td>\n",
       "      <td>porque eu estou questionando hoje</td>\n",
       "      <td>30</td>\n",
       "      <td>(porque, eu, estou, questionando, hoje)</td>\n",
       "      <td>5</td>\n",
       "    </tr>\n",
       "    <tr>\n",
       "      <th>9</th>\n",
       "      <td>Não estou querendo dificultar...</td>\n",
       "      <td>não estou querendo dificultar</td>\n",
       "      <td>29</td>\n",
       "      <td>(não, estou, querendo, dificultar)</td>\n",
       "      <td>4</td>\n",
       "    </tr>\n",
       "  </tbody>\n",
       "</table>\n",
       "</div>"
      ],
      "text/plain": [
       "                                      texto_discurso  \\\n",
       "1  Sr. Presidente, Sras. e Srs. Senadores, eu ach...   \n",
       "3  Sr. Presidente, não é o caso de indeferir ou n...   \n",
       "5  O senhor está indo contra o Regimento. Não é i...   \n",
       "7                 Porque eu estou questionando hoje.   \n",
       "9                   Não estou querendo dificultar...   \n",
       "\n",
       "                                       sem_pontuacao  tamanho  \\\n",
       "1  sr. presidente sras e srs senadores eu achava ...      847   \n",
       "3  sr. presidente não é o caso de indeferir ou nã...       51   \n",
       "5  o senhor está indo contra o regimento não é is...       91   \n",
       "7                  porque eu estou questionando hoje       30   \n",
       "9                      não estou querendo dificultar       29   \n",
       "\n",
       "                                              tokens  tokens_qtd  \n",
       "1  (sr., presidente, sras, e, srs, senadores, eu,...         182  \n",
       "3  (sr., presidente, não, é, o, caso, de, indefer...          12  \n",
       "5  (o, senhor, está, indo, contra, o, regimento, ...          23  \n",
       "7            (porque, eu, estou, questionando, hoje)           5  \n",
       "9                 (não, estou, querendo, dificultar)           4  "
      ]
     },
     "execution_count": 43,
     "metadata": {},
     "output_type": "execute_result"
    }
   ],
   "source": [
    "corpus.head()"
   ]
  },
  {
   "cell_type": "code",
   "execution_count": 44,
   "id": "aab497db",
   "metadata": {},
   "outputs": [],
   "source": [
    "from spacy.lang.pt.stop_words import STOP_WORDS"
   ]
  },
  {
   "cell_type": "markdown",
   "id": "08868d67",
   "metadata": {},
   "source": [
    "## Stopwords (palavra-instrumento)"
   ]
  },
  {
   "cell_type": "code",
   "execution_count": 45,
   "id": "f8859198",
   "metadata": {},
   "outputs": [],
   "source": [
    "def palavra_instrumento(sem_pontuacao):\n",
    "    doc = nlp(sem_pontuacao)\n",
    "    pi = [palavra.text for palavra in doc if palavra.is_stop==True]\n",
    "    return pi"
   ]
  },
  {
   "cell_type": "code",
   "execution_count": 46,
   "id": "4a4db746",
   "metadata": {},
   "outputs": [],
   "source": [
    "corpus['palavra_instrumento'] = corpus['sem_pontuacao'].apply(lambda x: palavra_instrumento(x))"
   ]
  },
  {
   "cell_type": "code",
   "execution_count": 47,
   "id": "8fcf4269",
   "metadata": {},
   "outputs": [],
   "source": [
    "corpus['pi_qtde'] = corpus['palavra_instrumento'].apply(lambda x: len(x))"
   ]
  },
  {
   "cell_type": "code",
   "execution_count": 48,
   "id": "73002ad8",
   "metadata": {},
   "outputs": [
    {
     "data": {
      "text/html": [
       "<div>\n",
       "<style scoped>\n",
       "    .dataframe tbody tr th:only-of-type {\n",
       "        vertical-align: middle;\n",
       "    }\n",
       "\n",
       "    .dataframe tbody tr th {\n",
       "        vertical-align: top;\n",
       "    }\n",
       "\n",
       "    .dataframe thead th {\n",
       "        text-align: right;\n",
       "    }\n",
       "</style>\n",
       "<table border=\"1\" class=\"dataframe\">\n",
       "  <thead>\n",
       "    <tr style=\"text-align: right;\">\n",
       "      <th></th>\n",
       "      <th>texto_discurso</th>\n",
       "      <th>sem_pontuacao</th>\n",
       "      <th>tamanho</th>\n",
       "      <th>tokens</th>\n",
       "      <th>tokens_qtd</th>\n",
       "      <th>palavra_instrumento</th>\n",
       "      <th>pi_qtde</th>\n",
       "    </tr>\n",
       "  </thead>\n",
       "  <tbody>\n",
       "    <tr>\n",
       "      <th>1</th>\n",
       "      <td>Sr. Presidente, Sras. e Srs. Senadores, eu ach...</td>\n",
       "      <td>sr. presidente sras e srs senadores eu achava ...</td>\n",
       "      <td>847</td>\n",
       "      <td>(sr., presidente, sras, e, srs, senadores, eu,...</td>\n",
       "      <td>182</td>\n",
       "      <td>[e, eu, que, nós, a, até, que, um, que, não, c...</td>\n",
       "      <td>106</td>\n",
       "    </tr>\n",
       "    <tr>\n",
       "      <th>3</th>\n",
       "      <td>Sr. Presidente, não é o caso de indeferir ou n...</td>\n",
       "      <td>sr. presidente não é o caso de indeferir ou nã...</td>\n",
       "      <td>51</td>\n",
       "      <td>(sr., presidente, não, é, o, caso, de, indefer...</td>\n",
       "      <td>12</td>\n",
       "      <td>[não, é, o, de, ou, não, isso, aqui]</td>\n",
       "      <td>8</td>\n",
       "    </tr>\n",
       "  </tbody>\n",
       "</table>\n",
       "</div>"
      ],
      "text/plain": [
       "                                      texto_discurso  \\\n",
       "1  Sr. Presidente, Sras. e Srs. Senadores, eu ach...   \n",
       "3  Sr. Presidente, não é o caso de indeferir ou n...   \n",
       "\n",
       "                                       sem_pontuacao  tamanho  \\\n",
       "1  sr. presidente sras e srs senadores eu achava ...      847   \n",
       "3  sr. presidente não é o caso de indeferir ou nã...       51   \n",
       "\n",
       "                                              tokens  tokens_qtd  \\\n",
       "1  (sr., presidente, sras, e, srs, senadores, eu,...         182   \n",
       "3  (sr., presidente, não, é, o, caso, de, indefer...          12   \n",
       "\n",
       "                                 palavra_instrumento  pi_qtde  \n",
       "1  [e, eu, que, nós, a, até, que, um, que, não, c...      106  \n",
       "3               [não, é, o, de, ou, não, isso, aqui]        8  "
      ]
     },
     "execution_count": 48,
     "metadata": {},
     "output_type": "execute_result"
    }
   ],
   "source": [
    "corpus.head(2)"
   ]
  },
  {
   "cell_type": "markdown",
   "id": "6ab7134a",
   "metadata": {},
   "source": [
    "## Palavras de conteúdo (palavras plenas)"
   ]
  },
  {
   "cell_type": "code",
   "execution_count": 49,
   "id": "4e7fe188",
   "metadata": {},
   "outputs": [],
   "source": [
    "def palavras_plenas(sem_pontuacao):\n",
    "    doc = nlp(sem_pontuacao)\n",
    "    pp = [palavra.text for palavra in doc if palavra.is_stop==False]\n",
    "    return pp"
   ]
  },
  {
   "cell_type": "code",
   "execution_count": 50,
   "id": "782a29a8",
   "metadata": {},
   "outputs": [],
   "source": [
    "corpus['palavras_plenas'] = corpus['sem_pontuacao'].apply(lambda x: palavras_plenas(x))"
   ]
  },
  {
   "cell_type": "code",
   "execution_count": 51,
   "id": "a0be2544",
   "metadata": {},
   "outputs": [],
   "source": [
    "corpus['pp_qtde'] = corpus['palavras_plenas'].apply(lambda x: len(x))"
   ]
  },
  {
   "cell_type": "code",
   "execution_count": 52,
   "id": "27a312e1",
   "metadata": {},
   "outputs": [
    {
     "data": {
      "text/html": [
       "<div>\n",
       "<style scoped>\n",
       "    .dataframe tbody tr th:only-of-type {\n",
       "        vertical-align: middle;\n",
       "    }\n",
       "\n",
       "    .dataframe tbody tr th {\n",
       "        vertical-align: top;\n",
       "    }\n",
       "\n",
       "    .dataframe thead th {\n",
       "        text-align: right;\n",
       "    }\n",
       "</style>\n",
       "<table border=\"1\" class=\"dataframe\">\n",
       "  <thead>\n",
       "    <tr style=\"text-align: right;\">\n",
       "      <th></th>\n",
       "      <th>texto_discurso</th>\n",
       "      <th>sem_pontuacao</th>\n",
       "      <th>tamanho</th>\n",
       "      <th>tokens</th>\n",
       "      <th>tokens_qtd</th>\n",
       "      <th>palavra_instrumento</th>\n",
       "      <th>pi_qtde</th>\n",
       "      <th>palavras_plenas</th>\n",
       "      <th>pp_qtde</th>\n",
       "    </tr>\n",
       "  </thead>\n",
       "  <tbody>\n",
       "    <tr>\n",
       "      <th>1</th>\n",
       "      <td>Sr. Presidente, Sras. e Srs. Senadores, eu ach...</td>\n",
       "      <td>sr. presidente sras e srs senadores eu achava ...</td>\n",
       "      <td>847</td>\n",
       "      <td>(sr., presidente, sras, e, srs, senadores, eu,...</td>\n",
       "      <td>182</td>\n",
       "      <td>[e, eu, que, nós, a, até, que, um, que, não, c...</td>\n",
       "      <td>106</td>\n",
       "      <td>[sr., presidente, sras, srs, senadores, achava...</td>\n",
       "      <td>76</td>\n",
       "    </tr>\n",
       "    <tr>\n",
       "      <th>3</th>\n",
       "      <td>Sr. Presidente, não é o caso de indeferir ou n...</td>\n",
       "      <td>sr. presidente não é o caso de indeferir ou nã...</td>\n",
       "      <td>51</td>\n",
       "      <td>(sr., presidente, não, é, o, caso, de, indefer...</td>\n",
       "      <td>12</td>\n",
       "      <td>[não, é, o, de, ou, não, isso, aqui]</td>\n",
       "      <td>8</td>\n",
       "      <td>[sr., presidente, caso, indeferir]</td>\n",
       "      <td>4</td>\n",
       "    </tr>\n",
       "    <tr>\n",
       "      <th>5</th>\n",
       "      <td>O senhor está indo contra o Regimento. Não é i...</td>\n",
       "      <td>o senhor está indo contra o regimento não é is...</td>\n",
       "      <td>91</td>\n",
       "      <td>(o, senhor, está, indo, contra, o, regimento, ...</td>\n",
       "      <td>23</td>\n",
       "      <td>[o, está, contra, o, não, é, isso, o, faz, par...</td>\n",
       "      <td>15</td>\n",
       "      <td>[senhor, indo, regimento, senhor, cpi, pandemi...</td>\n",
       "      <td>8</td>\n",
       "    </tr>\n",
       "    <tr>\n",
       "      <th>7</th>\n",
       "      <td>Porque eu estou questionando hoje.</td>\n",
       "      <td>porque eu estou questionando hoje</td>\n",
       "      <td>30</td>\n",
       "      <td>(porque, eu, estou, questionando, hoje)</td>\n",
       "      <td>5</td>\n",
       "      <td>[porque, eu, estou]</td>\n",
       "      <td>3</td>\n",
       "      <td>[questionando, hoje]</td>\n",
       "      <td>2</td>\n",
       "    </tr>\n",
       "    <tr>\n",
       "      <th>9</th>\n",
       "      <td>Não estou querendo dificultar...</td>\n",
       "      <td>não estou querendo dificultar</td>\n",
       "      <td>29</td>\n",
       "      <td>(não, estou, querendo, dificultar)</td>\n",
       "      <td>4</td>\n",
       "      <td>[não, estou]</td>\n",
       "      <td>2</td>\n",
       "      <td>[querendo, dificultar]</td>\n",
       "      <td>2</td>\n",
       "    </tr>\n",
       "  </tbody>\n",
       "</table>\n",
       "</div>"
      ],
      "text/plain": [
       "                                      texto_discurso  \\\n",
       "1  Sr. Presidente, Sras. e Srs. Senadores, eu ach...   \n",
       "3  Sr. Presidente, não é o caso de indeferir ou n...   \n",
       "5  O senhor está indo contra o Regimento. Não é i...   \n",
       "7                 Porque eu estou questionando hoje.   \n",
       "9                   Não estou querendo dificultar...   \n",
       "\n",
       "                                       sem_pontuacao  tamanho  \\\n",
       "1  sr. presidente sras e srs senadores eu achava ...      847   \n",
       "3  sr. presidente não é o caso de indeferir ou nã...       51   \n",
       "5  o senhor está indo contra o regimento não é is...       91   \n",
       "7                  porque eu estou questionando hoje       30   \n",
       "9                      não estou querendo dificultar       29   \n",
       "\n",
       "                                              tokens  tokens_qtd  \\\n",
       "1  (sr., presidente, sras, e, srs, senadores, eu,...         182   \n",
       "3  (sr., presidente, não, é, o, caso, de, indefer...          12   \n",
       "5  (o, senhor, está, indo, contra, o, regimento, ...          23   \n",
       "7            (porque, eu, estou, questionando, hoje)           5   \n",
       "9                 (não, estou, querendo, dificultar)           4   \n",
       "\n",
       "                                 palavra_instrumento  pi_qtde  \\\n",
       "1  [e, eu, que, nós, a, até, que, um, que, não, c...      106   \n",
       "3               [não, é, o, de, ou, não, isso, aqui]        8   \n",
       "5  [o, está, contra, o, não, é, isso, o, faz, par...       15   \n",
       "7                                [porque, eu, estou]        3   \n",
       "9                                       [não, estou]        2   \n",
       "\n",
       "                                     palavras_plenas  pp_qtde  \n",
       "1  [sr., presidente, sras, srs, senadores, achava...       76  \n",
       "3                 [sr., presidente, caso, indeferir]        4  \n",
       "5  [senhor, indo, regimento, senhor, cpi, pandemi...        8  \n",
       "7                               [questionando, hoje]        2  \n",
       "9                             [querendo, dificultar]        2  "
      ]
     },
     "execution_count": 52,
     "metadata": {},
     "output_type": "execute_result"
    }
   ],
   "source": [
    "corpus.head()"
   ]
  },
  {
   "cell_type": "code",
   "execution_count": 53,
   "id": "39e52d54",
   "metadata": {},
   "outputs": [],
   "source": [
    "def partes_discurso(sem_pontuacao):\n",
    "    doc = nlp(sem_pontuacao)\n",
    "    pf = [palavra.pos_ for palavra in doc if palavra.is_stop==False]\n",
    "    return pf"
   ]
  },
  {
   "cell_type": "code",
   "execution_count": 54,
   "id": "ebafcf55",
   "metadata": {},
   "outputs": [],
   "source": [
    "corpus['partes_discurso'] = corpus['sem_pontuacao'].apply(lambda x: partes_discurso(x))"
   ]
  },
  {
   "cell_type": "code",
   "execution_count": 55,
   "id": "c8529c5a",
   "metadata": {},
   "outputs": [
    {
     "data": {
      "text/html": [
       "<div>\n",
       "<style scoped>\n",
       "    .dataframe tbody tr th:only-of-type {\n",
       "        vertical-align: middle;\n",
       "    }\n",
       "\n",
       "    .dataframe tbody tr th {\n",
       "        vertical-align: top;\n",
       "    }\n",
       "\n",
       "    .dataframe thead th {\n",
       "        text-align: right;\n",
       "    }\n",
       "</style>\n",
       "<table border=\"1\" class=\"dataframe\">\n",
       "  <thead>\n",
       "    <tr style=\"text-align: right;\">\n",
       "      <th></th>\n",
       "      <th>texto_discurso</th>\n",
       "      <th>sem_pontuacao</th>\n",
       "      <th>tamanho</th>\n",
       "      <th>tokens</th>\n",
       "      <th>tokens_qtd</th>\n",
       "      <th>palavra_instrumento</th>\n",
       "      <th>pi_qtde</th>\n",
       "      <th>palavras_plenas</th>\n",
       "      <th>pp_qtde</th>\n",
       "      <th>partes_discurso</th>\n",
       "    </tr>\n",
       "  </thead>\n",
       "  <tbody>\n",
       "    <tr>\n",
       "      <th>1</th>\n",
       "      <td>Sr. Presidente, Sras. e Srs. Senadores, eu ach...</td>\n",
       "      <td>sr. presidente sras e srs senadores eu achava ...</td>\n",
       "      <td>847</td>\n",
       "      <td>(sr., presidente, sras, e, srs, senadores, eu,...</td>\n",
       "      <td>182</td>\n",
       "      <td>[e, eu, que, nós, a, até, que, um, que, não, c...</td>\n",
       "      <td>106</td>\n",
       "      <td>[sr., presidente, sras, srs, senadores, achava...</td>\n",
       "      <td>76</td>\n",
       "      <td>[VERB, NOUN, ADJ, VERB, NOUN, VERB, VERB, VERB...</td>\n",
       "    </tr>\n",
       "    <tr>\n",
       "      <th>3</th>\n",
       "      <td>Sr. Presidente, não é o caso de indeferir ou n...</td>\n",
       "      <td>sr. presidente não é o caso de indeferir ou nã...</td>\n",
       "      <td>51</td>\n",
       "      <td>(sr., presidente, não, é, o, caso, de, indefer...</td>\n",
       "      <td>12</td>\n",
       "      <td>[não, é, o, de, ou, não, isso, aqui]</td>\n",
       "      <td>8</td>\n",
       "      <td>[sr., presidente, caso, indeferir]</td>\n",
       "      <td>4</td>\n",
       "      <td>[NOUN, NOUN, NOUN, VERB]</td>\n",
       "    </tr>\n",
       "  </tbody>\n",
       "</table>\n",
       "</div>"
      ],
      "text/plain": [
       "                                      texto_discurso  \\\n",
       "1  Sr. Presidente, Sras. e Srs. Senadores, eu ach...   \n",
       "3  Sr. Presidente, não é o caso de indeferir ou n...   \n",
       "\n",
       "                                       sem_pontuacao  tamanho  \\\n",
       "1  sr. presidente sras e srs senadores eu achava ...      847   \n",
       "3  sr. presidente não é o caso de indeferir ou nã...       51   \n",
       "\n",
       "                                              tokens  tokens_qtd  \\\n",
       "1  (sr., presidente, sras, e, srs, senadores, eu,...         182   \n",
       "3  (sr., presidente, não, é, o, caso, de, indefer...          12   \n",
       "\n",
       "                                 palavra_instrumento  pi_qtde  \\\n",
       "1  [e, eu, que, nós, a, até, que, um, que, não, c...      106   \n",
       "3               [não, é, o, de, ou, não, isso, aqui]        8   \n",
       "\n",
       "                                     palavras_plenas  pp_qtde  \\\n",
       "1  [sr., presidente, sras, srs, senadores, achava...       76   \n",
       "3                 [sr., presidente, caso, indeferir]        4   \n",
       "\n",
       "                                     partes_discurso  \n",
       "1  [VERB, NOUN, ADJ, VERB, NOUN, VERB, VERB, VERB...  \n",
       "3                           [NOUN, NOUN, NOUN, VERB]  "
      ]
     },
     "execution_count": 55,
     "metadata": {},
     "output_type": "execute_result"
    }
   ],
   "source": [
    "corpus.head(2)"
   ]
  },
  {
   "cell_type": "markdown",
   "id": "7607cf6f",
   "metadata": {},
   "source": [
    "Com um conjunto de dados como este aí acima, é possível propor análises de diversos tipos: por meio da linguística estatísitca, análise léxical, etc... Viste o site do spaCy para conhecer mais funcionalidades que podem enriquecer suas análises: https://spacy.io/models/pt\n",
    "### Principais noções de Python utlizadas neste notebook:\n",
    "- Tipos de dados\n",
    "- Operadores lógicos\n",
    "- Variáveis\n",
    "- Condicionas\n",
    "- Laços de repetição\n",
    "- Funções\n",
    "- List comprehension\n",
    "- Fuções lambda\n",
    "    \n",
    "### Principais noções de Pandas:\n",
    "- Importar biblioteca\n",
    "- Carregar arquivo csv pd.read_csv()\n",
    "- Funções e métodos: head(), apply(), value_counts(), to_frame(), bloxplot(), unique(), filter()\n",
    "    - **NOTAÇÃO**: \n",
    "        - **nome_base_dados[['nome_coluna']]** - seleciona uma coluna da base de dados para aplicar funções/métodos exclusivamente sobre essa coluna.\n",
    "        - **nome_base_dados[(nome_base_dados == 'valores_selecionados_em_uma_coluna')]** - retorna uma tabela identica à original, contendo apenas as linhas nas quais os valores indicados estão presentes. A barra invertida no final de cada parenteses permite inserir o parenteses seguinte em uma nova linha e evitar inserir os valores de forma contínua na celula.\n",
    "\n",
    "### Principais noções de spaCy:  \n",
    "- spacy.load(\"pt_core_news_sm\"): carrega o corpus da língua portuguesa.\n",
    "- is_punct: contém um conjunto de pontuação presentes em textos da língua portuguesa.\n",
    "- Tokenizer: separa o texto em segmentos de palavras.\n",
    "- is_stop: contém um conjunto de palavras-instrumento da língua portuguesa.\n",
    "- pos_: classifica palavras do texto de acordo com as partes do discurso.\n",
    "        \n",
    "    \n",
    "\n",
    "### Programa usado para interagir com os dados com Python:\n",
    "O software **Anaconda** elimina um dos grandes obstaculos para quem quer começar a usar Python: a própria instalação de Python. Você pode baixar por esse link https://www.anaconda.com/products/individual"
   ]
  },
  {
   "cell_type": "code",
   "execution_count": null,
   "id": "38768b5c",
   "metadata": {},
   "outputs": [],
   "source": []
  }
 ],
 "metadata": {
  "kernelspec": {
   "display_name": "Python 3",
   "language": "python",
   "name": "python3"
  },
  "language_info": {
   "codemirror_mode": {
    "name": "ipython",
    "version": 3
   },
   "file_extension": ".py",
   "mimetype": "text/x-python",
   "name": "python",
   "nbconvert_exporter": "python",
   "pygments_lexer": "ipython3",
   "version": "3.8.8"
  }
 },
 "nbformat": 4,
 "nbformat_minor": 5
}
