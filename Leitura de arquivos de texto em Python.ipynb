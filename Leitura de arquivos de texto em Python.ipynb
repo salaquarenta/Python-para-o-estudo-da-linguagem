{
 "cells": [
  {
   "cell_type": "code",
   "execution_count": 1,
   "id": "e5c705d9",
   "metadata": {},
   "outputs": [],
   "source": [
    "with open('Quintana.txt') as felicidade:\n",
    "    texto = felicidade.readlines()"
   ]
  },
  {
   "cell_type": "code",
   "execution_count": 3,
   "id": "ee737fef",
   "metadata": {},
   "outputs": [
    {
     "data": {
      "text/plain": [
       "['Ã‰ o que dÃ¡ ver tanta televisÃ£o. Simplesmente esquecemos de tentar ser felizes de uma forma mais realista. Por que sÃ³ podemos ser felizes formando um par, e nÃ£o como Ã\\xadmpares. Ter um parceiro constante nÃ£o Ã© sinÃ´nimo de felicidade, a nÃ£o ser que seja a felicidade de estar correspondendo Ã\\xa0s expectativas da sociedade, mas isso Ã© outro assunto. VocÃª pode ser feliz solteiro, feliz com uns romances ocasionais, feliz com trÃªs parceiros, feliz sem nenhum. NÃ£o existe amor minÃºsculo, principalmente quando se trata de amor-prÃ³prio.']"
      ]
     },
     "execution_count": 3,
     "metadata": {},
     "output_type": "execute_result"
    }
   ],
   "source": [
    "texto"
   ]
  },
  {
   "cell_type": "markdown",
   "id": "7ac2d01a",
   "metadata": {},
   "source": [
    "### A presença de caracteres especiais, como acentos gráficos, requer \"tratamento\" especial\n",
    "Ao invés de usar funções nativas, criaremos uma função própria para lidar com os caracteres especiais da língua portuguesa. A parte do código responsável por endereçar os caracteres é o **encoding** = 'utf-8' "
   ]
  },
  {
   "cell_type": "code",
   "execution_count": 4,
   "id": "98b553bc",
   "metadata": {},
   "outputs": [],
   "source": [
    "def ler(nome_arquivo):\n",
    "    arquivo = open(nome_arquivo, 'r', encoding='utf-8')\n",
    "    conteudo_arquivo = arquivo.read()\n",
    "    arquivo.close()\n",
    "    \n",
    "    return conteudo_arquivo"
   ]
  },
  {
   "cell_type": "code",
   "execution_count": 5,
   "id": "63737fc3",
   "metadata": {},
   "outputs": [],
   "source": [
    "texto = ler('Quintana.txt')"
   ]
  },
  {
   "cell_type": "code",
   "execution_count": 6,
   "id": "154db8a2",
   "metadata": {
    "scrolled": true
   },
   "outputs": [
    {
     "data": {
      "text/plain": [
       "'É o que dá ver tanta televisão. Simplesmente esquecemos de tentar ser felizes de uma forma mais realista. Por que só podemos ser felizes formando um par, e não como ímpares. Ter um parceiro constante não é sinônimo de felicidade, a não ser que seja a felicidade de estar correspondendo às expectativas da sociedade, mas isso é outro assunto. Você pode ser feliz solteiro, feliz com uns romances ocasionais, feliz com três parceiros, feliz sem nenhum. Não existe amor minúsculo, principalmente quando se trata de amor-próprio.'"
      ]
     },
     "execution_count": 6,
     "metadata": {},
     "output_type": "execute_result"
    }
   ],
   "source": [
    "texto"
   ]
  }
 ],
 "metadata": {
  "kernelspec": {
   "display_name": "Python 3",
   "language": "python",
   "name": "python3"
  },
  "language_info": {
   "codemirror_mode": {
    "name": "ipython",
    "version": 3
   },
   "file_extension": ".py",
   "mimetype": "text/x-python",
   "name": "python",
   "nbconvert_exporter": "python",
   "pygments_lexer": "ipython3",
   "version": "3.8.8"
  }
 },
 "nbformat": 4,
 "nbformat_minor": 5
}
